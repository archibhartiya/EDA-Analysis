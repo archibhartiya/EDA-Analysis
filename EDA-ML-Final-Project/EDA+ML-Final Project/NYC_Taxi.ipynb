{
 "cells": [
  {
   "cell_type": "markdown",
   "id": "5796a075",
   "metadata": {},
   "source": [
    "# Building Basic predictive models over the NYC Taxi Trip dataset."
   ]
  },
  {
   "cell_type": "code",
   "execution_count": 1,
   "id": "7d64f27a",
   "metadata": {},
   "outputs": [],
   "source": [
    "%matplotlib inline\n",
    "import numpy as np\n",
    "import pandas as pd\n",
    "from datetime import timedelta\n",
    "import datetime as dt\n",
    "import matplotlib.pyplot as plt\n",
    "import seaborn as sns\n",
    "from sklearn.model_selection import train_test_split\n",
    "import warnings\n",
    "warnings.filterwarnings('ignore')"
   ]
  },
  {
   "cell_type": "code",
   "execution_count": 2,
   "id": "84053d91",
   "metadata": {},
   "outputs": [],
   "source": [
    "df = pd.read_csv('nyc_taxi_trip_duration.csv')"
   ]
  },
  {
   "cell_type": "code",
   "execution_count": 3,
   "id": "41968f70",
   "metadata": {},
   "outputs": [
    {
     "data": {
      "text/plain": [
       "id                    0\n",
       "vendor_id             0\n",
       "pickup_datetime       0\n",
       "dropoff_datetime      0\n",
       "passenger_count       0\n",
       "pickup_longitude      0\n",
       "pickup_latitude       0\n",
       "dropoff_longitude     0\n",
       "dropoff_latitude      0\n",
       "store_and_fwd_flag    0\n",
       "trip_duration         0\n",
       "dtype: int64"
      ]
     },
     "execution_count": 3,
     "metadata": {},
     "output_type": "execute_result"
    }
   ],
   "source": [
    "np.sum(pd.isnull(df))"
   ]
  },
  {
   "cell_type": "code",
   "execution_count": 403,
   "id": "50a0e48e",
   "metadata": {},
   "outputs": [
    {
     "data": {
      "text/plain": [
       "id                     object\n",
       "vendor_id               int64\n",
       "pickup_datetime        object\n",
       "dropoff_datetime       object\n",
       "passenger_count         int64\n",
       "pickup_longitude      float64\n",
       "pickup_latitude       float64\n",
       "dropoff_longitude     float64\n",
       "dropoff_latitude      float64\n",
       "store_and_fwd_flag     object\n",
       "trip_duration           int64\n",
       "dtype: object"
      ]
     },
     "execution_count": 403,
     "metadata": {},
     "output_type": "execute_result"
    }
   ],
   "source": [
    "df.dtypes"
   ]
  },
  {
   "cell_type": "markdown",
   "id": "1a79fccd",
   "metadata": {},
   "source": [
    "# 1. Choose the most suitable evaluation metric and state why you chose it.\n"
   ]
  },
  {
   "cell_type": "markdown",
   "id": "1094c476",
   "metadata": {},
   "source": [
    "# Target variable is \"trip_duration\" which is a continuous variable so i will be making use of root mean square error RMSE as the evaluation matrix which works upon regression problems which calculates the difference between actual and predicted values"
   ]
  },
  {
   "cell_type": "code",
   "execution_count": 404,
   "id": "98cbb632",
   "metadata": {},
   "outputs": [
    {
     "data": {
      "text/plain": [
       "(0, 12)"
      ]
     },
     "execution_count": 404,
     "metadata": {},
     "output_type": "execute_result"
    }
   ],
   "source": [
    "#check inconsistency in data given\n",
    "# converting strings to datetime features\n",
    "df['pickup_datetime'] = pd.to_datetime(df.pickup_datetime)\n",
    "df['dropoff_datetime'] = pd.to_datetime(df.dropoff_datetime)\n",
    "\n",
    "# Converting yes/no flag to 1 and 0\n",
    "df['store_and_fwd_flag'] = 1 * (df.store_and_fwd_flag.values == 'Y')\n",
    "\n",
    "df['check_trip_duration'] = (df['dropoff_datetime'] - df['pickup_datetime']).map(lambda x: x.total_seconds())\n",
    "\n",
    "duration_difference = df[np.abs(df['check_trip_duration'].values  - df['trip_duration'].values) > 1]\n",
    "duration_difference.shape"
   ]
  },
  {
   "cell_type": "code",
   "execution_count": 405,
   "id": "33a34ede",
   "metadata": {},
   "outputs": [],
   "source": [
    "df['pickup_day_of_week'] = df['pickup_datetime'].dt.weekday\n",
    "df['dropoff_day_of_week']= df['dropoff_datetime'].dt.weekday\n",
    "df['pickup_hour_of_day'] = df['pickup_datetime'].dt.hour\n",
    "df['dropoff_hour_of_day'] = df['dropoff_datetime'].dt.hour\n",
    "df['pickup_month'] = df['pickup_datetime'].dt.month\n",
    "df['dropoff_month'] = df['dropoff_datetime'].dt.month\n",
    "df['pickup_date'] = df['pickup_datetime'].dt.date\n",
    "df['dropoff_date'] = df['dropoff_datetime'].dt.date\n"
   ]
  },
  {
   "cell_type": "code",
   "execution_count": 406,
   "id": "7fb2e5df",
   "metadata": {},
   "outputs": [
    {
     "data": {
      "text/html": [
       "<div>\n",
       "<style scoped>\n",
       "    .dataframe tbody tr th:only-of-type {\n",
       "        vertical-align: middle;\n",
       "    }\n",
       "\n",
       "    .dataframe tbody tr th {\n",
       "        vertical-align: top;\n",
       "    }\n",
       "\n",
       "    .dataframe thead th {\n",
       "        text-align: right;\n",
       "    }\n",
       "</style>\n",
       "<table border=\"1\" class=\"dataframe\">\n",
       "  <thead>\n",
       "    <tr style=\"text-align: right;\">\n",
       "      <th></th>\n",
       "      <th>id</th>\n",
       "      <th>vendor_id</th>\n",
       "      <th>pickup_datetime</th>\n",
       "      <th>dropoff_datetime</th>\n",
       "      <th>passenger_count</th>\n",
       "      <th>pickup_longitude</th>\n",
       "      <th>pickup_latitude</th>\n",
       "      <th>dropoff_longitude</th>\n",
       "      <th>dropoff_latitude</th>\n",
       "      <th>store_and_fwd_flag</th>\n",
       "      <th>trip_duration</th>\n",
       "      <th>check_trip_duration</th>\n",
       "      <th>pickup_day_of_week</th>\n",
       "      <th>dropoff_day_of_week</th>\n",
       "      <th>pickup_hour_of_day</th>\n",
       "      <th>dropoff_hour_of_day</th>\n",
       "      <th>pickup_month</th>\n",
       "      <th>dropoff_month</th>\n",
       "      <th>pickup_date</th>\n",
       "      <th>dropoff_date</th>\n",
       "    </tr>\n",
       "  </thead>\n",
       "  <tbody>\n",
       "    <tr>\n",
       "      <th>0</th>\n",
       "      <td>id1080784</td>\n",
       "      <td>2</td>\n",
       "      <td>2016-02-29 16:40:21</td>\n",
       "      <td>2016-02-29 16:47:01</td>\n",
       "      <td>1</td>\n",
       "      <td>-73.953918</td>\n",
       "      <td>40.778873</td>\n",
       "      <td>-73.963875</td>\n",
       "      <td>40.771164</td>\n",
       "      <td>0</td>\n",
       "      <td>400</td>\n",
       "      <td>400.0</td>\n",
       "      <td>0</td>\n",
       "      <td>0</td>\n",
       "      <td>16</td>\n",
       "      <td>16</td>\n",
       "      <td>2</td>\n",
       "      <td>2</td>\n",
       "      <td>2016-02-29</td>\n",
       "      <td>2016-02-29</td>\n",
       "    </tr>\n",
       "    <tr>\n",
       "      <th>1</th>\n",
       "      <td>id0889885</td>\n",
       "      <td>1</td>\n",
       "      <td>2016-03-11 23:35:37</td>\n",
       "      <td>2016-03-11 23:53:57</td>\n",
       "      <td>2</td>\n",
       "      <td>-73.988312</td>\n",
       "      <td>40.731743</td>\n",
       "      <td>-73.994751</td>\n",
       "      <td>40.694931</td>\n",
       "      <td>0</td>\n",
       "      <td>1100</td>\n",
       "      <td>1100.0</td>\n",
       "      <td>4</td>\n",
       "      <td>4</td>\n",
       "      <td>23</td>\n",
       "      <td>23</td>\n",
       "      <td>3</td>\n",
       "      <td>3</td>\n",
       "      <td>2016-03-11</td>\n",
       "      <td>2016-03-11</td>\n",
       "    </tr>\n",
       "    <tr>\n",
       "      <th>2</th>\n",
       "      <td>id0857912</td>\n",
       "      <td>2</td>\n",
       "      <td>2016-02-21 17:59:33</td>\n",
       "      <td>2016-02-21 18:26:48</td>\n",
       "      <td>2</td>\n",
       "      <td>-73.997314</td>\n",
       "      <td>40.721458</td>\n",
       "      <td>-73.948029</td>\n",
       "      <td>40.774918</td>\n",
       "      <td>0</td>\n",
       "      <td>1635</td>\n",
       "      <td>1635.0</td>\n",
       "      <td>6</td>\n",
       "      <td>6</td>\n",
       "      <td>17</td>\n",
       "      <td>18</td>\n",
       "      <td>2</td>\n",
       "      <td>2</td>\n",
       "      <td>2016-02-21</td>\n",
       "      <td>2016-02-21</td>\n",
       "    </tr>\n",
       "    <tr>\n",
       "      <th>3</th>\n",
       "      <td>id3744273</td>\n",
       "      <td>2</td>\n",
       "      <td>2016-01-05 09:44:31</td>\n",
       "      <td>2016-01-05 10:03:32</td>\n",
       "      <td>6</td>\n",
       "      <td>-73.961670</td>\n",
       "      <td>40.759720</td>\n",
       "      <td>-73.956779</td>\n",
       "      <td>40.780628</td>\n",
       "      <td>0</td>\n",
       "      <td>1141</td>\n",
       "      <td>1141.0</td>\n",
       "      <td>1</td>\n",
       "      <td>1</td>\n",
       "      <td>9</td>\n",
       "      <td>10</td>\n",
       "      <td>1</td>\n",
       "      <td>1</td>\n",
       "      <td>2016-01-05</td>\n",
       "      <td>2016-01-05</td>\n",
       "    </tr>\n",
       "    <tr>\n",
       "      <th>4</th>\n",
       "      <td>id0232939</td>\n",
       "      <td>1</td>\n",
       "      <td>2016-02-17 06:42:23</td>\n",
       "      <td>2016-02-17 06:56:31</td>\n",
       "      <td>1</td>\n",
       "      <td>-74.017120</td>\n",
       "      <td>40.708469</td>\n",
       "      <td>-73.988182</td>\n",
       "      <td>40.740631</td>\n",
       "      <td>0</td>\n",
       "      <td>848</td>\n",
       "      <td>848.0</td>\n",
       "      <td>2</td>\n",
       "      <td>2</td>\n",
       "      <td>6</td>\n",
       "      <td>6</td>\n",
       "      <td>2</td>\n",
       "      <td>2</td>\n",
       "      <td>2016-02-17</td>\n",
       "      <td>2016-02-17</td>\n",
       "    </tr>\n",
       "  </tbody>\n",
       "</table>\n",
       "</div>"
      ],
      "text/plain": [
       "          id  vendor_id     pickup_datetime    dropoff_datetime  \\\n",
       "0  id1080784          2 2016-02-29 16:40:21 2016-02-29 16:47:01   \n",
       "1  id0889885          1 2016-03-11 23:35:37 2016-03-11 23:53:57   \n",
       "2  id0857912          2 2016-02-21 17:59:33 2016-02-21 18:26:48   \n",
       "3  id3744273          2 2016-01-05 09:44:31 2016-01-05 10:03:32   \n",
       "4  id0232939          1 2016-02-17 06:42:23 2016-02-17 06:56:31   \n",
       "\n",
       "   passenger_count  pickup_longitude  pickup_latitude  dropoff_longitude  \\\n",
       "0                1        -73.953918        40.778873         -73.963875   \n",
       "1                2        -73.988312        40.731743         -73.994751   \n",
       "2                2        -73.997314        40.721458         -73.948029   \n",
       "3                6        -73.961670        40.759720         -73.956779   \n",
       "4                1        -74.017120        40.708469         -73.988182   \n",
       "\n",
       "   dropoff_latitude  store_and_fwd_flag  trip_duration  check_trip_duration  \\\n",
       "0         40.771164                   0            400                400.0   \n",
       "1         40.694931                   0           1100               1100.0   \n",
       "2         40.774918                   0           1635               1635.0   \n",
       "3         40.780628                   0           1141               1141.0   \n",
       "4         40.740631                   0            848                848.0   \n",
       "\n",
       "   pickup_day_of_week  dropoff_day_of_week  pickup_hour_of_day  \\\n",
       "0                   0                    0                  16   \n",
       "1                   4                    4                  23   \n",
       "2                   6                    6                  17   \n",
       "3                   1                    1                   9   \n",
       "4                   2                    2                   6   \n",
       "\n",
       "   dropoff_hour_of_day  pickup_month  dropoff_month pickup_date dropoff_date  \n",
       "0                   16             2              2  2016-02-29   2016-02-29  \n",
       "1                   23             3              3  2016-03-11   2016-03-11  \n",
       "2                   18             2              2  2016-02-21   2016-02-21  \n",
       "3                   10             1              1  2016-01-05   2016-01-05  \n",
       "4                    6             2              2  2016-02-17   2016-02-17  "
      ]
     },
     "execution_count": 406,
     "metadata": {},
     "output_type": "execute_result"
    }
   ],
   "source": [
    "df.head()"
   ]
  },
  {
   "cell_type": "code",
   "execution_count": 407,
   "id": "b022ebe2",
   "metadata": {},
   "outputs": [],
   "source": [
    "cut_bins = [0,5,10,15,20,24]\n",
    "names = ['Early Morning','Office Hours','Noon Hours','Evening','Night']\n",
    "\n",
    "df['Pick_time_frame'] = pd.cut(df['pickup_hour_of_day'],bins=cut_bins,labels=names)\n",
    "\n",
    "df['drop_time_frame'] = pd.cut(df['dropoff_hour_of_day'],bins=cut_bins,labels=names)\n"
   ]
  },
  {
   "cell_type": "code",
   "execution_count": 408,
   "id": "fa26963b",
   "metadata": {},
   "outputs": [
    {
     "data": {
      "text/html": [
       "<div>\n",
       "<style scoped>\n",
       "    .dataframe tbody tr th:only-of-type {\n",
       "        vertical-align: middle;\n",
       "    }\n",
       "\n",
       "    .dataframe tbody tr th {\n",
       "        vertical-align: top;\n",
       "    }\n",
       "\n",
       "    .dataframe thead th {\n",
       "        text-align: right;\n",
       "    }\n",
       "</style>\n",
       "<table border=\"1\" class=\"dataframe\">\n",
       "  <thead>\n",
       "    <tr style=\"text-align: right;\">\n",
       "      <th></th>\n",
       "      <th>id</th>\n",
       "      <th>vendor_id</th>\n",
       "      <th>pickup_datetime</th>\n",
       "      <th>dropoff_datetime</th>\n",
       "      <th>passenger_count</th>\n",
       "      <th>pickup_longitude</th>\n",
       "      <th>pickup_latitude</th>\n",
       "      <th>dropoff_longitude</th>\n",
       "      <th>dropoff_latitude</th>\n",
       "      <th>store_and_fwd_flag</th>\n",
       "      <th>...</th>\n",
       "      <th>pickup_day_of_week</th>\n",
       "      <th>dropoff_day_of_week</th>\n",
       "      <th>pickup_hour_of_day</th>\n",
       "      <th>dropoff_hour_of_day</th>\n",
       "      <th>pickup_month</th>\n",
       "      <th>dropoff_month</th>\n",
       "      <th>pickup_date</th>\n",
       "      <th>dropoff_date</th>\n",
       "      <th>Pick_time_frame</th>\n",
       "      <th>drop_time_frame</th>\n",
       "    </tr>\n",
       "  </thead>\n",
       "  <tbody>\n",
       "    <tr>\n",
       "      <th>0</th>\n",
       "      <td>id1080784</td>\n",
       "      <td>2</td>\n",
       "      <td>2016-02-29 16:40:21</td>\n",
       "      <td>2016-02-29 16:47:01</td>\n",
       "      <td>1</td>\n",
       "      <td>-73.953918</td>\n",
       "      <td>40.778873</td>\n",
       "      <td>-73.963875</td>\n",
       "      <td>40.771164</td>\n",
       "      <td>0</td>\n",
       "      <td>...</td>\n",
       "      <td>0</td>\n",
       "      <td>0</td>\n",
       "      <td>16</td>\n",
       "      <td>16</td>\n",
       "      <td>2</td>\n",
       "      <td>2</td>\n",
       "      <td>2016-02-29</td>\n",
       "      <td>2016-02-29</td>\n",
       "      <td>Evening</td>\n",
       "      <td>Evening</td>\n",
       "    </tr>\n",
       "    <tr>\n",
       "      <th>1</th>\n",
       "      <td>id0889885</td>\n",
       "      <td>1</td>\n",
       "      <td>2016-03-11 23:35:37</td>\n",
       "      <td>2016-03-11 23:53:57</td>\n",
       "      <td>2</td>\n",
       "      <td>-73.988312</td>\n",
       "      <td>40.731743</td>\n",
       "      <td>-73.994751</td>\n",
       "      <td>40.694931</td>\n",
       "      <td>0</td>\n",
       "      <td>...</td>\n",
       "      <td>4</td>\n",
       "      <td>4</td>\n",
       "      <td>23</td>\n",
       "      <td>23</td>\n",
       "      <td>3</td>\n",
       "      <td>3</td>\n",
       "      <td>2016-03-11</td>\n",
       "      <td>2016-03-11</td>\n",
       "      <td>Night</td>\n",
       "      <td>Night</td>\n",
       "    </tr>\n",
       "    <tr>\n",
       "      <th>2</th>\n",
       "      <td>id0857912</td>\n",
       "      <td>2</td>\n",
       "      <td>2016-02-21 17:59:33</td>\n",
       "      <td>2016-02-21 18:26:48</td>\n",
       "      <td>2</td>\n",
       "      <td>-73.997314</td>\n",
       "      <td>40.721458</td>\n",
       "      <td>-73.948029</td>\n",
       "      <td>40.774918</td>\n",
       "      <td>0</td>\n",
       "      <td>...</td>\n",
       "      <td>6</td>\n",
       "      <td>6</td>\n",
       "      <td>17</td>\n",
       "      <td>18</td>\n",
       "      <td>2</td>\n",
       "      <td>2</td>\n",
       "      <td>2016-02-21</td>\n",
       "      <td>2016-02-21</td>\n",
       "      <td>Evening</td>\n",
       "      <td>Evening</td>\n",
       "    </tr>\n",
       "    <tr>\n",
       "      <th>3</th>\n",
       "      <td>id3744273</td>\n",
       "      <td>2</td>\n",
       "      <td>2016-01-05 09:44:31</td>\n",
       "      <td>2016-01-05 10:03:32</td>\n",
       "      <td>6</td>\n",
       "      <td>-73.961670</td>\n",
       "      <td>40.759720</td>\n",
       "      <td>-73.956779</td>\n",
       "      <td>40.780628</td>\n",
       "      <td>0</td>\n",
       "      <td>...</td>\n",
       "      <td>1</td>\n",
       "      <td>1</td>\n",
       "      <td>9</td>\n",
       "      <td>10</td>\n",
       "      <td>1</td>\n",
       "      <td>1</td>\n",
       "      <td>2016-01-05</td>\n",
       "      <td>2016-01-05</td>\n",
       "      <td>Office Hours</td>\n",
       "      <td>Office Hours</td>\n",
       "    </tr>\n",
       "    <tr>\n",
       "      <th>4</th>\n",
       "      <td>id0232939</td>\n",
       "      <td>1</td>\n",
       "      <td>2016-02-17 06:42:23</td>\n",
       "      <td>2016-02-17 06:56:31</td>\n",
       "      <td>1</td>\n",
       "      <td>-74.017120</td>\n",
       "      <td>40.708469</td>\n",
       "      <td>-73.988182</td>\n",
       "      <td>40.740631</td>\n",
       "      <td>0</td>\n",
       "      <td>...</td>\n",
       "      <td>2</td>\n",
       "      <td>2</td>\n",
       "      <td>6</td>\n",
       "      <td>6</td>\n",
       "      <td>2</td>\n",
       "      <td>2</td>\n",
       "      <td>2016-02-17</td>\n",
       "      <td>2016-02-17</td>\n",
       "      <td>Office Hours</td>\n",
       "      <td>Office Hours</td>\n",
       "    </tr>\n",
       "  </tbody>\n",
       "</table>\n",
       "<p>5 rows × 22 columns</p>\n",
       "</div>"
      ],
      "text/plain": [
       "          id  vendor_id     pickup_datetime    dropoff_datetime  \\\n",
       "0  id1080784          2 2016-02-29 16:40:21 2016-02-29 16:47:01   \n",
       "1  id0889885          1 2016-03-11 23:35:37 2016-03-11 23:53:57   \n",
       "2  id0857912          2 2016-02-21 17:59:33 2016-02-21 18:26:48   \n",
       "3  id3744273          2 2016-01-05 09:44:31 2016-01-05 10:03:32   \n",
       "4  id0232939          1 2016-02-17 06:42:23 2016-02-17 06:56:31   \n",
       "\n",
       "   passenger_count  pickup_longitude  pickup_latitude  dropoff_longitude  \\\n",
       "0                1        -73.953918        40.778873         -73.963875   \n",
       "1                2        -73.988312        40.731743         -73.994751   \n",
       "2                2        -73.997314        40.721458         -73.948029   \n",
       "3                6        -73.961670        40.759720         -73.956779   \n",
       "4                1        -74.017120        40.708469         -73.988182   \n",
       "\n",
       "   dropoff_latitude  store_and_fwd_flag  ...  pickup_day_of_week  \\\n",
       "0         40.771164                   0  ...                   0   \n",
       "1         40.694931                   0  ...                   4   \n",
       "2         40.774918                   0  ...                   6   \n",
       "3         40.780628                   0  ...                   1   \n",
       "4         40.740631                   0  ...                   2   \n",
       "\n",
       "   dropoff_day_of_week  pickup_hour_of_day  dropoff_hour_of_day  pickup_month  \\\n",
       "0                    0                  16                   16             2   \n",
       "1                    4                  23                   23             3   \n",
       "2                    6                  17                   18             2   \n",
       "3                    1                   9                   10             1   \n",
       "4                    2                   6                    6             2   \n",
       "\n",
       "   dropoff_month  pickup_date  dropoff_date Pick_time_frame drop_time_frame  \n",
       "0              2   2016-02-29    2016-02-29         Evening         Evening  \n",
       "1              3   2016-03-11    2016-03-11           Night           Night  \n",
       "2              2   2016-02-21    2016-02-21         Evening         Evening  \n",
       "3              1   2016-01-05    2016-01-05    Office Hours    Office Hours  \n",
       "4              2   2016-02-17    2016-02-17    Office Hours    Office Hours  \n",
       "\n",
       "[5 rows x 22 columns]"
      ]
     },
     "execution_count": 408,
     "metadata": {},
     "output_type": "execute_result"
    }
   ],
   "source": [
    "df.head()"
   ]
  },
  {
   "cell_type": "code",
   "execution_count": 409,
   "id": "9655dc91",
   "metadata": {},
   "outputs": [
    {
     "data": {
      "text/plain": [
       "Evening          203439\n",
       "Noon Hours       176966\n",
       "Office Hours     138571\n",
       "Night            119172\n",
       "Early Morning     62261\n",
       "Name: drop_time_frame, dtype: int64"
      ]
     },
     "execution_count": 409,
     "metadata": {},
     "output_type": "execute_result"
    }
   ],
   "source": [
    "df['drop_time_frame'].value_counts()"
   ]
  },
  {
   "cell_type": "code",
   "execution_count": 410,
   "id": "88ca1a31",
   "metadata": {
    "scrolled": true
   },
   "outputs": [
    {
     "data": {
      "text/plain": [
       "Evening          203291\n",
       "Noon Hours       178318\n",
       "Office Hours     144605\n",
       "Night            117407\n",
       "Early Morning     58975\n",
       "Name: Pick_time_frame, dtype: int64"
      ]
     },
     "execution_count": 410,
     "metadata": {},
     "output_type": "execute_result"
    }
   ],
   "source": [
    "df['Pick_time_frame'].value_counts()"
   ]
  },
  {
   "cell_type": "code",
   "execution_count": 411,
   "id": "393c69e5",
   "metadata": {},
   "outputs": [
    {
     "data": {
      "text/plain": [
       "count    729322.000000\n",
       "mean          0.264508\n",
       "std           1.073507\n",
       "min           0.000278\n",
       "25%           0.110278\n",
       "50%           0.184167\n",
       "75%           0.298611\n",
       "max         538.815556\n",
       "Name: trip_duration, dtype: float64"
      ]
     },
     "execution_count": 411,
     "metadata": {},
     "output_type": "execute_result"
    }
   ],
   "source": [
    "#difference between pick and drop time frame show that some trip duration were very long\n",
    "# Trip duration in hours\n",
    "df['trip_duration'] = df['trip_duration']/3600\n",
    "\n",
    "df['trip_duration'].describe() \n"
   ]
  },
  {
   "cell_type": "code",
   "execution_count": 412,
   "id": "4fb430ae",
   "metadata": {},
   "outputs": [
    {
     "data": {
      "text/html": [
       "<div>\n",
       "<style scoped>\n",
       "    .dataframe tbody tr th:only-of-type {\n",
       "        vertical-align: middle;\n",
       "    }\n",
       "\n",
       "    .dataframe tbody tr th {\n",
       "        vertical-align: top;\n",
       "    }\n",
       "\n",
       "    .dataframe thead th {\n",
       "        text-align: right;\n",
       "    }\n",
       "</style>\n",
       "<table border=\"1\" class=\"dataframe\">\n",
       "  <thead>\n",
       "    <tr style=\"text-align: right;\">\n",
       "      <th></th>\n",
       "      <th>id</th>\n",
       "      <th>vendor_id</th>\n",
       "      <th>pickup_datetime</th>\n",
       "      <th>dropoff_datetime</th>\n",
       "      <th>passenger_count</th>\n",
       "      <th>pickup_longitude</th>\n",
       "      <th>pickup_latitude</th>\n",
       "      <th>dropoff_longitude</th>\n",
       "      <th>dropoff_latitude</th>\n",
       "      <th>store_and_fwd_flag</th>\n",
       "      <th>trip_duration</th>\n",
       "      <th>pickup_date</th>\n",
       "      <th>dropoff_date</th>\n",
       "      <th>Pick_time_frame</th>\n",
       "      <th>drop_time_frame</th>\n",
       "    </tr>\n",
       "  </thead>\n",
       "  <tbody>\n",
       "    <tr>\n",
       "      <th>0</th>\n",
       "      <td>id1080784</td>\n",
       "      <td>2</td>\n",
       "      <td>2016-02-29 16:40:21</td>\n",
       "      <td>2016-02-29 16:47:01</td>\n",
       "      <td>1</td>\n",
       "      <td>-73.953918</td>\n",
       "      <td>40.778873</td>\n",
       "      <td>-73.963875</td>\n",
       "      <td>40.771164</td>\n",
       "      <td>0</td>\n",
       "      <td>0.111111</td>\n",
       "      <td>2016-02-29</td>\n",
       "      <td>2016-02-29</td>\n",
       "      <td>Evening</td>\n",
       "      <td>Evening</td>\n",
       "    </tr>\n",
       "    <tr>\n",
       "      <th>1</th>\n",
       "      <td>id0889885</td>\n",
       "      <td>1</td>\n",
       "      <td>2016-03-11 23:35:37</td>\n",
       "      <td>2016-03-11 23:53:57</td>\n",
       "      <td>2</td>\n",
       "      <td>-73.988312</td>\n",
       "      <td>40.731743</td>\n",
       "      <td>-73.994751</td>\n",
       "      <td>40.694931</td>\n",
       "      <td>0</td>\n",
       "      <td>0.305556</td>\n",
       "      <td>2016-03-11</td>\n",
       "      <td>2016-03-11</td>\n",
       "      <td>Night</td>\n",
       "      <td>Night</td>\n",
       "    </tr>\n",
       "    <tr>\n",
       "      <th>2</th>\n",
       "      <td>id0857912</td>\n",
       "      <td>2</td>\n",
       "      <td>2016-02-21 17:59:33</td>\n",
       "      <td>2016-02-21 18:26:48</td>\n",
       "      <td>2</td>\n",
       "      <td>-73.997314</td>\n",
       "      <td>40.721458</td>\n",
       "      <td>-73.948029</td>\n",
       "      <td>40.774918</td>\n",
       "      <td>0</td>\n",
       "      <td>0.454167</td>\n",
       "      <td>2016-02-21</td>\n",
       "      <td>2016-02-21</td>\n",
       "      <td>Evening</td>\n",
       "      <td>Evening</td>\n",
       "    </tr>\n",
       "    <tr>\n",
       "      <th>3</th>\n",
       "      <td>id3744273</td>\n",
       "      <td>2</td>\n",
       "      <td>2016-01-05 09:44:31</td>\n",
       "      <td>2016-01-05 10:03:32</td>\n",
       "      <td>6</td>\n",
       "      <td>-73.961670</td>\n",
       "      <td>40.759720</td>\n",
       "      <td>-73.956779</td>\n",
       "      <td>40.780628</td>\n",
       "      <td>0</td>\n",
       "      <td>0.316944</td>\n",
       "      <td>2016-01-05</td>\n",
       "      <td>2016-01-05</td>\n",
       "      <td>Office Hours</td>\n",
       "      <td>Office Hours</td>\n",
       "    </tr>\n",
       "    <tr>\n",
       "      <th>4</th>\n",
       "      <td>id0232939</td>\n",
       "      <td>1</td>\n",
       "      <td>2016-02-17 06:42:23</td>\n",
       "      <td>2016-02-17 06:56:31</td>\n",
       "      <td>1</td>\n",
       "      <td>-74.017120</td>\n",
       "      <td>40.708469</td>\n",
       "      <td>-73.988182</td>\n",
       "      <td>40.740631</td>\n",
       "      <td>0</td>\n",
       "      <td>0.235556</td>\n",
       "      <td>2016-02-17</td>\n",
       "      <td>2016-02-17</td>\n",
       "      <td>Office Hours</td>\n",
       "      <td>Office Hours</td>\n",
       "    </tr>\n",
       "  </tbody>\n",
       "</table>\n",
       "</div>"
      ],
      "text/plain": [
       "          id  vendor_id     pickup_datetime    dropoff_datetime  \\\n",
       "0  id1080784          2 2016-02-29 16:40:21 2016-02-29 16:47:01   \n",
       "1  id0889885          1 2016-03-11 23:35:37 2016-03-11 23:53:57   \n",
       "2  id0857912          2 2016-02-21 17:59:33 2016-02-21 18:26:48   \n",
       "3  id3744273          2 2016-01-05 09:44:31 2016-01-05 10:03:32   \n",
       "4  id0232939          1 2016-02-17 06:42:23 2016-02-17 06:56:31   \n",
       "\n",
       "   passenger_count  pickup_longitude  pickup_latitude  dropoff_longitude  \\\n",
       "0                1        -73.953918        40.778873         -73.963875   \n",
       "1                2        -73.988312        40.731743         -73.994751   \n",
       "2                2        -73.997314        40.721458         -73.948029   \n",
       "3                6        -73.961670        40.759720         -73.956779   \n",
       "4                1        -74.017120        40.708469         -73.988182   \n",
       "\n",
       "   dropoff_latitude  store_and_fwd_flag  trip_duration pickup_date  \\\n",
       "0         40.771164                   0       0.111111  2016-02-29   \n",
       "1         40.694931                   0       0.305556  2016-03-11   \n",
       "2         40.774918                   0       0.454167  2016-02-21   \n",
       "3         40.780628                   0       0.316944  2016-01-05   \n",
       "4         40.740631                   0       0.235556  2016-02-17   \n",
       "\n",
       "  dropoff_date Pick_time_frame drop_time_frame  \n",
       "0   2016-02-29         Evening         Evening  \n",
       "1   2016-03-11           Night           Night  \n",
       "2   2016-02-21         Evening         Evening  \n",
       "3   2016-01-05    Office Hours    Office Hours  \n",
       "4   2016-02-17    Office Hours    Office Hours  "
      ]
     },
     "execution_count": 412,
     "metadata": {},
     "output_type": "execute_result"
    }
   ],
   "source": [
    "df.drop(columns=['check_trip_duration','pickup_hour_of_day','pickup_day_of_week','pickup_month','dropoff_hour_of_day','dropoff_day_of_week','dropoff_month'], inplace=True)\n",
    "df.head()"
   ]
  },
  {
   "cell_type": "code",
   "execution_count": 413,
   "id": "50dc8805",
   "metadata": {},
   "outputs": [
    {
     "data": {
      "image/png": "[encoded data removed]",
      "text/plain": [
       "<Figure size 1200x600 with 2 Axes>"
      ]
     },
     "metadata": {},
     "output_type": "display_data"
    }
   ],
   "source": [
    "plt.figure(figsize=(12, 6))\n",
    "corr = df.apply(lambda x: pd.factorize(x)[0]).corr()\n",
    "ax = sns.heatmap(corr, xticklabels=corr.columns, yticklabels=corr.columns, \n",
    "                 linewidths=.2, cmap=\"YlGnBu\")"
   ]
  },
  {
   "cell_type": "markdown",
   "id": "f02f03eb",
   "metadata": {},
   "source": [
    "# 2. Building regression benchmark model\n"
   ]
  },
  {
   "cell_type": "code",
   "execution_count": 414,
   "id": "3f9e7b6b",
   "metadata": {},
   "outputs": [],
   "source": [
    "from sklearn.utils import shuffle\n",
    "\n",
    "# Shuffling the Dataset\n",
    "data = shuffle(df, random_state = 42)\n",
    "\n",
    "\n",
    "# #creating 4 divisions\n",
    "div = int(data.shape[0]/4)\n",
    "\n",
    "# 3 parts to train set and 1 part to test set\n",
    "train = data.loc[:3*div+1:]\n",
    "test = data.loc[3*div+1:]"
   ]
  },
  {
   "cell_type": "code",
   "execution_count": 415,
   "id": "dc00158e",
   "metadata": {},
   "outputs": [
    {
     "data": {
      "text/html": [
       "<div>\n",
       "<style scoped>\n",
       "    .dataframe tbody tr th:only-of-type {\n",
       "        vertical-align: middle;\n",
       "    }\n",
       "\n",
       "    .dataframe tbody tr th {\n",
       "        vertical-align: top;\n",
       "    }\n",
       "\n",
       "    .dataframe thead th {\n",
       "        text-align: right;\n",
       "    }\n",
       "</style>\n",
       "<table border=\"1\" class=\"dataframe\">\n",
       "  <thead>\n",
       "    <tr style=\"text-align: right;\">\n",
       "      <th></th>\n",
       "      <th>id</th>\n",
       "      <th>vendor_id</th>\n",
       "      <th>pickup_datetime</th>\n",
       "      <th>dropoff_datetime</th>\n",
       "      <th>passenger_count</th>\n",
       "      <th>pickup_longitude</th>\n",
       "      <th>pickup_latitude</th>\n",
       "      <th>dropoff_longitude</th>\n",
       "      <th>dropoff_latitude</th>\n",
       "      <th>store_and_fwd_flag</th>\n",
       "      <th>trip_duration</th>\n",
       "      <th>pickup_date</th>\n",
       "      <th>dropoff_date</th>\n",
       "      <th>Pick_time_frame</th>\n",
       "      <th>drop_time_frame</th>\n",
       "    </tr>\n",
       "  </thead>\n",
       "  <tbody>\n",
       "    <tr>\n",
       "      <th>469114</th>\n",
       "      <td>id2380741</td>\n",
       "      <td>2</td>\n",
       "      <td>2016-05-21 10:40:14</td>\n",
       "      <td>2016-05-21 10:51:11</td>\n",
       "      <td>1</td>\n",
       "      <td>-73.981796</td>\n",
       "      <td>40.762035</td>\n",
       "      <td>-73.972267</td>\n",
       "      <td>40.781265</td>\n",
       "      <td>0</td>\n",
       "      <td>0.182500</td>\n",
       "      <td>2016-05-21</td>\n",
       "      <td>2016-05-21</td>\n",
       "      <td>Office Hours</td>\n",
       "      <td>Office Hours</td>\n",
       "    </tr>\n",
       "    <tr>\n",
       "      <th>694852</th>\n",
       "      <td>id3946961</td>\n",
       "      <td>2</td>\n",
       "      <td>2016-01-08 18:49:27</td>\n",
       "      <td>2016-01-08 18:52:42</td>\n",
       "      <td>5</td>\n",
       "      <td>-73.980965</td>\n",
       "      <td>40.747677</td>\n",
       "      <td>-73.982704</td>\n",
       "      <td>40.741161</td>\n",
       "      <td>0</td>\n",
       "      <td>0.054167</td>\n",
       "      <td>2016-01-08</td>\n",
       "      <td>2016-01-08</td>\n",
       "      <td>Evening</td>\n",
       "      <td>Evening</td>\n",
       "    </tr>\n",
       "    <tr>\n",
       "      <th>696324</th>\n",
       "      <td>id0833913</td>\n",
       "      <td>1</td>\n",
       "      <td>2016-05-22 00:54:10</td>\n",
       "      <td>2016-05-22 01:08:10</td>\n",
       "      <td>1</td>\n",
       "      <td>-73.951065</td>\n",
       "      <td>40.782722</td>\n",
       "      <td>-73.867691</td>\n",
       "      <td>40.833664</td>\n",
       "      <td>0</td>\n",
       "      <td>0.233333</td>\n",
       "      <td>2016-05-22</td>\n",
       "      <td>2016-05-22</td>\n",
       "      <td>NaN</td>\n",
       "      <td>Early Morning</td>\n",
       "    </tr>\n",
       "    <tr>\n",
       "      <th>356496</th>\n",
       "      <td>id1336849</td>\n",
       "      <td>1</td>\n",
       "      <td>2016-06-11 10:32:12</td>\n",
       "      <td>2016-06-11 10:38:50</td>\n",
       "      <td>1</td>\n",
       "      <td>-73.987625</td>\n",
       "      <td>40.762791</td>\n",
       "      <td>-73.973518</td>\n",
       "      <td>40.762909</td>\n",
       "      <td>0</td>\n",
       "      <td>0.110556</td>\n",
       "      <td>2016-06-11</td>\n",
       "      <td>2016-06-11</td>\n",
       "      <td>Office Hours</td>\n",
       "      <td>Office Hours</td>\n",
       "    </tr>\n",
       "    <tr>\n",
       "      <th>645318</th>\n",
       "      <td>id1610858</td>\n",
       "      <td>1</td>\n",
       "      <td>2016-04-03 10:45:51</td>\n",
       "      <td>2016-04-03 10:57:13</td>\n",
       "      <td>3</td>\n",
       "      <td>-73.964333</td>\n",
       "      <td>40.792503</td>\n",
       "      <td>-73.988609</td>\n",
       "      <td>40.758369</td>\n",
       "      <td>0</td>\n",
       "      <td>0.189444</td>\n",
       "      <td>2016-04-03</td>\n",
       "      <td>2016-04-03</td>\n",
       "      <td>Office Hours</td>\n",
       "      <td>Office Hours</td>\n",
       "    </tr>\n",
       "  </tbody>\n",
       "</table>\n",
       "</div>"
      ],
      "text/plain": [
       "               id  vendor_id     pickup_datetime    dropoff_datetime  \\\n",
       "469114  id2380741          2 2016-05-21 10:40:14 2016-05-21 10:51:11   \n",
       "694852  id3946961          2 2016-01-08 18:49:27 2016-01-08 18:52:42   \n",
       "696324  id0833913          1 2016-05-22 00:54:10 2016-05-22 01:08:10   \n",
       "356496  id1336849          1 2016-06-11 10:32:12 2016-06-11 10:38:50   \n",
       "645318  id1610858          1 2016-04-03 10:45:51 2016-04-03 10:57:13   \n",
       "\n",
       "        passenger_count  pickup_longitude  pickup_latitude  dropoff_longitude  \\\n",
       "469114                1        -73.981796        40.762035         -73.972267   \n",
       "694852                5        -73.980965        40.747677         -73.982704   \n",
       "696324                1        -73.951065        40.782722         -73.867691   \n",
       "356496                1        -73.987625        40.762791         -73.973518   \n",
       "645318                3        -73.964333        40.792503         -73.988609   \n",
       "\n",
       "        dropoff_latitude  store_and_fwd_flag  trip_duration pickup_date  \\\n",
       "469114         40.781265                   0       0.182500  2016-05-21   \n",
       "694852         40.741161                   0       0.054167  2016-01-08   \n",
       "696324         40.833664                   0       0.233333  2016-05-22   \n",
       "356496         40.762909                   0       0.110556  2016-06-11   \n",
       "645318         40.758369                   0       0.189444  2016-04-03   \n",
       "\n",
       "       dropoff_date Pick_time_frame drop_time_frame  \n",
       "469114   2016-05-21    Office Hours    Office Hours  \n",
       "694852   2016-01-08         Evening         Evening  \n",
       "696324   2016-05-22             NaN   Early Morning  \n",
       "356496   2016-06-11    Office Hours    Office Hours  \n",
       "645318   2016-04-03    Office Hours    Office Hours  "
      ]
     },
     "execution_count": 415,
     "metadata": {},
     "output_type": "execute_result"
    }
   ],
   "source": [
    "train.head()"
   ]
  },
  {
   "cell_type": "code",
   "execution_count": 416,
   "id": "38117ab0",
   "metadata": {},
   "outputs": [
    {
     "data": {
      "text/html": [
       "<div>\n",
       "<style scoped>\n",
       "    .dataframe tbody tr th:only-of-type {\n",
       "        vertical-align: middle;\n",
       "    }\n",
       "\n",
       "    .dataframe tbody tr th {\n",
       "        vertical-align: top;\n",
       "    }\n",
       "\n",
       "    .dataframe thead th {\n",
       "        text-align: right;\n",
       "    }\n",
       "</style>\n",
       "<table border=\"1\" class=\"dataframe\">\n",
       "  <thead>\n",
       "    <tr style=\"text-align: right;\">\n",
       "      <th></th>\n",
       "      <th>id</th>\n",
       "      <th>vendor_id</th>\n",
       "      <th>pickup_datetime</th>\n",
       "      <th>dropoff_datetime</th>\n",
       "      <th>passenger_count</th>\n",
       "      <th>pickup_longitude</th>\n",
       "      <th>pickup_latitude</th>\n",
       "      <th>dropoff_longitude</th>\n",
       "      <th>dropoff_latitude</th>\n",
       "      <th>store_and_fwd_flag</th>\n",
       "      <th>trip_duration</th>\n",
       "      <th>pickup_date</th>\n",
       "      <th>dropoff_date</th>\n",
       "      <th>Pick_time_frame</th>\n",
       "      <th>drop_time_frame</th>\n",
       "    </tr>\n",
       "  </thead>\n",
       "  <tbody>\n",
       "    <tr>\n",
       "      <th>546991</th>\n",
       "      <td>id2240736</td>\n",
       "      <td>1</td>\n",
       "      <td>2016-05-25 07:59:16</td>\n",
       "      <td>2016-05-25 08:05:02</td>\n",
       "      <td>1</td>\n",
       "      <td>-73.991364</td>\n",
       "      <td>40.732590</td>\n",
       "      <td>-74.000526</td>\n",
       "      <td>40.742283</td>\n",
       "      <td>0</td>\n",
       "      <td>0.096111</td>\n",
       "      <td>2016-05-25</td>\n",
       "      <td>2016-05-25</td>\n",
       "      <td>Office Hours</td>\n",
       "      <td>Office Hours</td>\n",
       "    </tr>\n",
       "    <tr>\n",
       "      <th>43126</th>\n",
       "      <td>id1423404</td>\n",
       "      <td>1</td>\n",
       "      <td>2016-01-18 12:17:13</td>\n",
       "      <td>2016-01-18 12:21:13</td>\n",
       "      <td>2</td>\n",
       "      <td>-73.966225</td>\n",
       "      <td>40.768059</td>\n",
       "      <td>-73.967606</td>\n",
       "      <td>40.763073</td>\n",
       "      <td>0</td>\n",
       "      <td>0.066667</td>\n",
       "      <td>2016-01-18</td>\n",
       "      <td>2016-01-18</td>\n",
       "      <td>Noon Hours</td>\n",
       "      <td>Noon Hours</td>\n",
       "    </tr>\n",
       "    <tr>\n",
       "      <th>641450</th>\n",
       "      <td>id1317268</td>\n",
       "      <td>2</td>\n",
       "      <td>2016-03-02 18:39:01</td>\n",
       "      <td>2016-03-02 18:50:12</td>\n",
       "      <td>1</td>\n",
       "      <td>-73.994926</td>\n",
       "      <td>40.766018</td>\n",
       "      <td>-74.004219</td>\n",
       "      <td>40.742523</td>\n",
       "      <td>0</td>\n",
       "      <td>0.186389</td>\n",
       "      <td>2016-03-02</td>\n",
       "      <td>2016-03-02</td>\n",
       "      <td>Evening</td>\n",
       "      <td>Evening</td>\n",
       "    </tr>\n",
       "    <tr>\n",
       "      <th>611380</th>\n",
       "      <td>id3335546</td>\n",
       "      <td>1</td>\n",
       "      <td>2016-04-06 19:17:20</td>\n",
       "      <td>2016-04-06 19:18:03</td>\n",
       "      <td>1</td>\n",
       "      <td>-73.974388</td>\n",
       "      <td>40.793781</td>\n",
       "      <td>-73.976006</td>\n",
       "      <td>40.792339</td>\n",
       "      <td>0</td>\n",
       "      <td>0.011944</td>\n",
       "      <td>2016-04-06</td>\n",
       "      <td>2016-04-06</td>\n",
       "      <td>Evening</td>\n",
       "      <td>Evening</td>\n",
       "    </tr>\n",
       "    <tr>\n",
       "      <th>62690</th>\n",
       "      <td>id2174190</td>\n",
       "      <td>2</td>\n",
       "      <td>2016-06-21 18:35:31</td>\n",
       "      <td>2016-06-21 18:40:56</td>\n",
       "      <td>3</td>\n",
       "      <td>-73.963440</td>\n",
       "      <td>40.798557</td>\n",
       "      <td>-73.979736</td>\n",
       "      <td>40.777878</td>\n",
       "      <td>0</td>\n",
       "      <td>0.090278</td>\n",
       "      <td>2016-06-21</td>\n",
       "      <td>2016-06-21</td>\n",
       "      <td>Evening</td>\n",
       "      <td>Evening</td>\n",
       "    </tr>\n",
       "  </tbody>\n",
       "</table>\n",
       "</div>"
      ],
      "text/plain": [
       "               id  vendor_id     pickup_datetime    dropoff_datetime  \\\n",
       "546991  id2240736          1 2016-05-25 07:59:16 2016-05-25 08:05:02   \n",
       "43126   id1423404          1 2016-01-18 12:17:13 2016-01-18 12:21:13   \n",
       "641450  id1317268          2 2016-03-02 18:39:01 2016-03-02 18:50:12   \n",
       "611380  id3335546          1 2016-04-06 19:17:20 2016-04-06 19:18:03   \n",
       "62690   id2174190          2 2016-06-21 18:35:31 2016-06-21 18:40:56   \n",
       "\n",
       "        passenger_count  pickup_longitude  pickup_latitude  dropoff_longitude  \\\n",
       "546991                1        -73.991364        40.732590         -74.000526   \n",
       "43126                 2        -73.966225        40.768059         -73.967606   \n",
       "641450                1        -73.994926        40.766018         -74.004219   \n",
       "611380                1        -73.974388        40.793781         -73.976006   \n",
       "62690                 3        -73.963440        40.798557         -73.979736   \n",
       "\n",
       "        dropoff_latitude  store_and_fwd_flag  trip_duration pickup_date  \\\n",
       "546991         40.742283                   0       0.096111  2016-05-25   \n",
       "43126          40.763073                   0       0.066667  2016-01-18   \n",
       "641450         40.742523                   0       0.186389  2016-03-02   \n",
       "611380         40.792339                   0       0.011944  2016-04-06   \n",
       "62690          40.777878                   0       0.090278  2016-06-21   \n",
       "\n",
       "       dropoff_date Pick_time_frame drop_time_frame  \n",
       "546991   2016-05-25    Office Hours    Office Hours  \n",
       "43126    2016-01-18      Noon Hours      Noon Hours  \n",
       "641450   2016-03-02         Evening         Evening  \n",
       "611380   2016-04-06         Evening         Evening  \n",
       "62690    2016-06-21         Evening         Evening  "
      ]
     },
     "execution_count": 416,
     "metadata": {},
     "output_type": "execute_result"
    }
   ],
   "source": [
    "test.head()"
   ]
  },
  {
   "cell_type": "code",
   "execution_count": 417,
   "id": "907ee892",
   "metadata": {},
   "outputs": [],
   "source": [
    "# storing simple mean in a new column in the test set as \"simple_mean\"\n",
    "test['simple_mean'] = train['trip_duration'].mean()"
   ]
  },
  {
   "cell_type": "code",
   "execution_count": 418,
   "id": "c95fe39d",
   "metadata": {},
   "outputs": [
    {
     "data": {
      "text/plain": [
       "0.792824508228472"
      ]
     },
     "execution_count": 418,
     "metadata": {},
     "output_type": "execute_result"
    }
   ],
   "source": [
    "#calculating MSE\n",
    "from sklearn.metrics import mean_squared_error as mse\n",
    "from math import sqrt\n",
    "simple_mean_error = mse(test['trip_duration'] , test['simple_mean'])\n",
    "simple_mean_error"
   ]
  },
  {
   "cell_type": "code",
   "execution_count": 419,
   "id": "0ba16477",
   "metadata": {},
   "outputs": [
    {
     "data": {
      "text/html": [
       "<div>\n",
       "<style scoped>\n",
       "    .dataframe tbody tr th:only-of-type {\n",
       "        vertical-align: middle;\n",
       "    }\n",
       "\n",
       "    .dataframe tbody tr th {\n",
       "        vertical-align: top;\n",
       "    }\n",
       "\n",
       "    .dataframe thead th {\n",
       "        text-align: right;\n",
       "    }\n",
       "</style>\n",
       "<table border=\"1\" class=\"dataframe\">\n",
       "  <thead>\n",
       "    <tr style=\"text-align: right;\">\n",
       "      <th></th>\n",
       "      <th>trip_duration</th>\n",
       "    </tr>\n",
       "    <tr>\n",
       "      <th>Pick_time_frame</th>\n",
       "      <th></th>\n",
       "    </tr>\n",
       "  </thead>\n",
       "  <tbody>\n",
       "    <tr>\n",
       "      <th>Early Morning</th>\n",
       "      <td>0.244862</td>\n",
       "    </tr>\n",
       "    <tr>\n",
       "      <th>Office Hours</th>\n",
       "      <td>0.247429</td>\n",
       "    </tr>\n",
       "    <tr>\n",
       "      <th>Noon Hours</th>\n",
       "      <td>0.286309</td>\n",
       "    </tr>\n",
       "    <tr>\n",
       "      <th>Evening</th>\n",
       "      <td>0.267637</td>\n",
       "    </tr>\n",
       "    <tr>\n",
       "      <th>Night</th>\n",
       "      <td>0.253974</td>\n",
       "    </tr>\n",
       "  </tbody>\n",
       "</table>\n",
       "</div>"
      ],
      "text/plain": [
       "                 trip_duration\n",
       "Pick_time_frame               \n",
       "Early Morning         0.244862\n",
       "Office Hours          0.247429\n",
       "Noon Hours            0.286309\n",
       "Evening               0.267637\n",
       "Night                 0.253974"
      ]
     },
     "execution_count": 419,
     "metadata": {},
     "output_type": "execute_result"
    }
   ],
   "source": [
    "pick = pd.pivot_table(train, values='trip_duration', index = ['Pick_time_frame'], aggfunc=np.mean)\n",
    "pick"
   ]
  },
  {
   "cell_type": "code",
   "execution_count": 420,
   "id": "7f8ffbb0",
   "metadata": {},
   "outputs": [],
   "source": [
    "# initializing new column to zero\n",
    "test['pick_mean'] = 0\n",
    "\n",
    "# For every unique entry in Outlet_Identifier\n",
    "for i in train['Pick_time_frame'].unique():\n",
    "  # Assign the mean value corresponding to unique entry\n",
    "  test['pick_mean'][test['Pick_time_frame'] == str(i)] = train['trip_duration'][train['Pick_time_frame'] == str(i)].mean()"
   ]
  },
  {
   "cell_type": "code",
   "execution_count": 421,
   "id": "3ab67d0e",
   "metadata": {},
   "outputs": [
    {
     "data": {
      "text/plain": [
       "0.7950375516855338"
      ]
     },
     "execution_count": 421,
     "metadata": {},
     "output_type": "execute_result"
    }
   ],
   "source": [
    "#calculating MSE\n",
    "Pick_time_frame_error = mse(test['trip_duration'] , test['pick_mean'] )\n",
    "Pick_time_frame_error"
   ]
  },
  {
   "cell_type": "code",
   "execution_count": 422,
   "id": "f55b6a84",
   "metadata": {},
   "outputs": [
    {
     "data": {
      "text/html": [
       "<div>\n",
       "<style scoped>\n",
       "    .dataframe tbody tr th:only-of-type {\n",
       "        vertical-align: middle;\n",
       "    }\n",
       "\n",
       "    .dataframe tbody tr th {\n",
       "        vertical-align: top;\n",
       "    }\n",
       "\n",
       "    .dataframe thead th {\n",
       "        text-align: right;\n",
       "    }\n",
       "</style>\n",
       "<table border=\"1\" class=\"dataframe\">\n",
       "  <thead>\n",
       "    <tr style=\"text-align: right;\">\n",
       "      <th></th>\n",
       "      <th>trip_duration</th>\n",
       "    </tr>\n",
       "    <tr>\n",
       "      <th>drop_time_frame</th>\n",
       "      <th></th>\n",
       "    </tr>\n",
       "  </thead>\n",
       "  <tbody>\n",
       "    <tr>\n",
       "      <th>Early Morning</th>\n",
       "      <td>0.243837</td>\n",
       "    </tr>\n",
       "    <tr>\n",
       "      <th>Office Hours</th>\n",
       "      <td>0.240820</td>\n",
       "    </tr>\n",
       "    <tr>\n",
       "      <th>Noon Hours</th>\n",
       "      <td>0.282987</td>\n",
       "    </tr>\n",
       "    <tr>\n",
       "      <th>Evening</th>\n",
       "      <td>0.273421</td>\n",
       "    </tr>\n",
       "    <tr>\n",
       "      <th>Night</th>\n",
       "      <td>0.252402</td>\n",
       "    </tr>\n",
       "  </tbody>\n",
       "</table>\n",
       "</div>"
      ],
      "text/plain": [
       "                 trip_duration\n",
       "drop_time_frame               \n",
       "Early Morning         0.243837\n",
       "Office Hours          0.240820\n",
       "Noon Hours            0.282987\n",
       "Evening               0.273421\n",
       "Night                 0.252402"
      ]
     },
     "execution_count": 422,
     "metadata": {},
     "output_type": "execute_result"
    }
   ],
   "source": [
    "drop = pd.pivot_table(train, values='trip_duration', index = ['drop_time_frame'], aggfunc=np.mean)\n",
    "drop"
   ]
  },
  {
   "cell_type": "code",
   "execution_count": 423,
   "id": "35ca8a40",
   "metadata": {},
   "outputs": [],
   "source": [
    "# initializing new column to zero\n",
    "test['drop_mean'] = 0\n",
    "\n",
    "# For every unique entry in Outlet_Identifier\n",
    "for i in train['drop_time_frame'].unique():\n",
    "  # Assign the mean value corresponding to unique entry\n",
    "  test['drop_mean'][test['drop_time_frame'] == str(i)] = train['trip_duration'][train['drop_time_frame'] == str(i)].mean()"
   ]
  },
  {
   "cell_type": "code",
   "execution_count": 424,
   "id": "74ab3414",
   "metadata": {},
   "outputs": [
    {
     "data": {
      "text/plain": [
       "0.796417421901544"
      ]
     },
     "execution_count": 424,
     "metadata": {},
     "output_type": "execute_result"
    }
   ],
   "source": [
    "#calculating MSE\n",
    "drop_time_frame_error = mse(test['trip_duration'] , test['drop_mean'] )\n",
    "drop_time_frame_error"
   ]
  },
  {
   "cell_type": "code",
   "execution_count": 425,
   "id": "25f26fc3",
   "metadata": {},
   "outputs": [
    {
     "data": {
      "text/html": [
       "<div>\n",
       "<style scoped>\n",
       "    .dataframe tbody tr th:only-of-type {\n",
       "        vertical-align: middle;\n",
       "    }\n",
       "\n",
       "    .dataframe tbody tr th {\n",
       "        vertical-align: top;\n",
       "    }\n",
       "\n",
       "    .dataframe thead th {\n",
       "        text-align: right;\n",
       "    }\n",
       "</style>\n",
       "<table border=\"1\" class=\"dataframe\">\n",
       "  <thead>\n",
       "    <tr style=\"text-align: right;\">\n",
       "      <th></th>\n",
       "      <th>trip_duration</th>\n",
       "    </tr>\n",
       "    <tr>\n",
       "      <th>passenger_count</th>\n",
       "      <th></th>\n",
       "    </tr>\n",
       "  </thead>\n",
       "  <tbody>\n",
       "    <tr>\n",
       "      <th>0</th>\n",
       "      <td>0.092981</td>\n",
       "    </tr>\n",
       "    <tr>\n",
       "      <th>1</th>\n",
       "      <td>0.255343</td>\n",
       "    </tr>\n",
       "    <tr>\n",
       "      <th>2</th>\n",
       "      <td>0.277822</td>\n",
       "    </tr>\n",
       "    <tr>\n",
       "      <th>3</th>\n",
       "      <td>0.287332</td>\n",
       "    </tr>\n",
       "    <tr>\n",
       "      <th>4</th>\n",
       "      <td>0.285759</td>\n",
       "    </tr>\n",
       "    <tr>\n",
       "      <th>5</th>\n",
       "      <td>0.299641</td>\n",
       "    </tr>\n",
       "    <tr>\n",
       "      <th>6</th>\n",
       "      <td>0.300193</td>\n",
       "    </tr>\n",
       "  </tbody>\n",
       "</table>\n",
       "</div>"
      ],
      "text/plain": [
       "                 trip_duration\n",
       "passenger_count               \n",
       "0                     0.092981\n",
       "1                     0.255343\n",
       "2                     0.277822\n",
       "3                     0.287332\n",
       "4                     0.285759\n",
       "5                     0.299641\n",
       "6                     0.300193"
      ]
     },
     "execution_count": 425,
     "metadata": {},
     "output_type": "execute_result"
    }
   ],
   "source": [
    "#trip duration with respect to the mean of passenger count\n",
    "pass_count = pd.pivot_table(train, values='trip_duration', index = [\"passenger_count\"], aggfunc=np.mean)\n",
    "pass_count"
   ]
  },
  {
   "cell_type": "code",
   "execution_count": 426,
   "id": "666bd66e",
   "metadata": {},
   "outputs": [],
   "source": [
    "# initializing new column to zero\n",
    "test['pass_count_mean'] = 0\n",
    "\n",
    "# For every unique entry in passenger count\n",
    "for i in train['passenger_count'].unique():\n",
    "  # Assign the mean value corresponding to unique entry\n",
    "  test['pass_count_mean'][test['passenger_count'] == str(i)] = train['trip_duration'][train['passenger_count'] == str(i)].mean()"
   ]
  },
  {
   "cell_type": "code",
   "execution_count": 427,
   "id": "ea61a847",
   "metadata": {},
   "outputs": [
    {
     "data": {
      "text/plain": [
       "0.9290781075032716"
      ]
     },
     "execution_count": 427,
     "metadata": {},
     "output_type": "execute_result"
    }
   ],
   "source": [
    "pass_count_error = sqrt(mse(test['trip_duration'] , test['pass_count_mean'] ))\n",
    "pass_count_error"
   ]
  },
  {
   "cell_type": "code",
   "execution_count": 428,
   "id": "ecc6e260",
   "metadata": {},
   "outputs": [
    {
     "data": {
      "text/html": [
       "<div>\n",
       "<style scoped>\n",
       "    .dataframe tbody tr th:only-of-type {\n",
       "        vertical-align: middle;\n",
       "    }\n",
       "\n",
       "    .dataframe tbody tr th {\n",
       "        vertical-align: top;\n",
       "    }\n",
       "\n",
       "    .dataframe thead th {\n",
       "        text-align: right;\n",
       "    }\n",
       "</style>\n",
       "<table border=\"1\" class=\"dataframe\">\n",
       "  <thead>\n",
       "    <tr style=\"text-align: right;\">\n",
       "      <th></th>\n",
       "      <th></th>\n",
       "      <th>trip_duration</th>\n",
       "    </tr>\n",
       "    <tr>\n",
       "      <th>Pick_time_frame</th>\n",
       "      <th>drop_time_frame</th>\n",
       "      <th></th>\n",
       "    </tr>\n",
       "  </thead>\n",
       "  <tbody>\n",
       "    <tr>\n",
       "      <th rowspan=\"4\" valign=\"top\">Early Morning</th>\n",
       "      <th>Early Morning</th>\n",
       "      <td>0.234795</td>\n",
       "    </tr>\n",
       "    <tr>\n",
       "      <th>Office Hours</th>\n",
       "      <td>0.313575</td>\n",
       "    </tr>\n",
       "    <tr>\n",
       "      <th>Noon Hours</th>\n",
       "      <td>12.009722</td>\n",
       "    </tr>\n",
       "    <tr>\n",
       "      <th>Night</th>\n",
       "      <td>22.514444</td>\n",
       "    </tr>\n",
       "    <tr>\n",
       "      <th rowspan=\"3\" valign=\"top\">Office Hours</th>\n",
       "      <th>Early Morning</th>\n",
       "      <td>22.632153</td>\n",
       "    </tr>\n",
       "    <tr>\n",
       "      <th>Office Hours</th>\n",
       "      <td>0.237621</td>\n",
       "    </tr>\n",
       "    <tr>\n",
       "      <th>Noon Hours</th>\n",
       "      <td>0.363283</td>\n",
       "    </tr>\n",
       "    <tr>\n",
       "      <th rowspan=\"3\" valign=\"top\">Noon Hours</th>\n",
       "      <th>Office Hours</th>\n",
       "      <td>23.076035</td>\n",
       "    </tr>\n",
       "    <tr>\n",
       "      <th>Noon Hours</th>\n",
       "      <td>0.272590</td>\n",
       "    </tr>\n",
       "    <tr>\n",
       "      <th>Evening</th>\n",
       "      <td>0.475664</td>\n",
       "    </tr>\n",
       "    <tr>\n",
       "      <th rowspan=\"4\" valign=\"top\">Evening</th>\n",
       "      <th>Early Morning</th>\n",
       "      <td>4.823056</td>\n",
       "    </tr>\n",
       "    <tr>\n",
       "      <th>Noon Hours</th>\n",
       "      <td>22.873556</td>\n",
       "    </tr>\n",
       "    <tr>\n",
       "      <th>Evening</th>\n",
       "      <td>0.262554</td>\n",
       "    </tr>\n",
       "    <tr>\n",
       "      <th>Night</th>\n",
       "      <td>0.316452</td>\n",
       "    </tr>\n",
       "    <tr>\n",
       "      <th rowspan=\"4\" valign=\"top\">Night</th>\n",
       "      <th>Early Morning</th>\n",
       "      <td>1.388611</td>\n",
       "    </tr>\n",
       "    <tr>\n",
       "      <th>Noon Hours</th>\n",
       "      <td>14.548889</td>\n",
       "    </tr>\n",
       "    <tr>\n",
       "      <th>Evening</th>\n",
       "      <td>23.312315</td>\n",
       "    </tr>\n",
       "    <tr>\n",
       "      <th>Night</th>\n",
       "      <td>0.245928</td>\n",
       "    </tr>\n",
       "  </tbody>\n",
       "</table>\n",
       "</div>"
      ],
      "text/plain": [
       "                                 trip_duration\n",
       "Pick_time_frame drop_time_frame               \n",
       "Early Morning   Early Morning         0.234795\n",
       "                Office Hours          0.313575\n",
       "                Noon Hours           12.009722\n",
       "                Night                22.514444\n",
       "Office Hours    Early Morning        22.632153\n",
       "                Office Hours          0.237621\n",
       "                Noon Hours            0.363283\n",
       "Noon Hours      Office Hours         23.076035\n",
       "                Noon Hours            0.272590\n",
       "                Evening               0.475664\n",
       "Evening         Early Morning         4.823056\n",
       "                Noon Hours           22.873556\n",
       "                Evening               0.262554\n",
       "                Night                 0.316452\n",
       "Night           Early Morning         1.388611\n",
       "                Noon Hours           14.548889\n",
       "                Evening              23.312315\n",
       "                Night                 0.245928"
      ]
     },
     "execution_count": 428,
     "metadata": {},
     "output_type": "execute_result"
    }
   ],
   "source": [
    "combo = pd.pivot_table(train, values = 'trip_duration', index = ['Pick_time_frame','drop_time_frame'], aggfunc = np.mean)\n",
    "combo"
   ]
  },
  {
   "cell_type": "code",
   "execution_count": 429,
   "id": "29164e0d",
   "metadata": {},
   "outputs": [],
   "source": [
    "# Initiating new empty column\n",
    "test['Super_mean'] = 0\n",
    "\n",
    "# Assigning variables to strings ( to shorten code length)\n",
    "#s3='drop_time_frame'\n",
    "s2 = 'Pick_time_frame'\n",
    "s1 = 'drop_time_frame'\n",
    "\n",
    "# For every Unique Value in s1\n",
    "for i in test[s1].unique():\n",
    "  # For every Unique Value in s2\n",
    "  for j in test[s2].unique():\n",
    "        #for k in test[s3].unique():\n",
    "        test['Super_mean'][(test[s1] == i) & (test[s2]==str(j))] = train['trip_duration'][(train[s1] == i) & (train[s2]==str(j))].mean()\n",
    "            \n",
    "#     # Calculate and Assign mean to new column, corresponding to both unique values of s1 and s2 simultaneously\n",
    "#     test['Super_mean'][(test[s1] == i) & (test[s2]==str(j))] = train['Item_Outlet_Sales'][(train[s1] == i) & (train[s2]==str(j))].mean()"
   ]
  },
  {
   "cell_type": "code",
   "execution_count": 430,
   "id": "ad5bd948",
   "metadata": {},
   "outputs": [
    {
     "data": {
      "text/plain": [
       "0.8775725170683301"
      ]
     },
     "execution_count": 430,
     "metadata": {},
     "output_type": "execute_result"
    }
   ],
   "source": [
    "super_error = sqrt(mse(test['trip_duration'] ,test['Super_mean'] ))\n",
    "super_error"
   ]
  },
  {
   "cell_type": "code",
   "execution_count": 431,
   "id": "41700c91",
   "metadata": {},
   "outputs": [
    {
     "data": {
      "text/html": [
       "<div>\n",
       "<style scoped>\n",
       "    .dataframe tbody tr th:only-of-type {\n",
       "        vertical-align: middle;\n",
       "    }\n",
       "\n",
       "    .dataframe tbody tr th {\n",
       "        vertical-align: top;\n",
       "    }\n",
       "\n",
       "    .dataframe thead th {\n",
       "        text-align: right;\n",
       "    }\n",
       "</style>\n",
       "<table border=\"1\" class=\"dataframe\">\n",
       "  <thead>\n",
       "    <tr style=\"text-align: right;\">\n",
       "      <th></th>\n",
       "      <th></th>\n",
       "      <th></th>\n",
       "      <th>trip_duration</th>\n",
       "    </tr>\n",
       "    <tr>\n",
       "      <th>passenger_count</th>\n",
       "      <th>Pick_time_frame</th>\n",
       "      <th>drop_time_frame</th>\n",
       "      <th></th>\n",
       "    </tr>\n",
       "  </thead>\n",
       "  <tbody>\n",
       "    <tr>\n",
       "      <th rowspan=\"5\" valign=\"top\">0</th>\n",
       "      <th>Early Morning</th>\n",
       "      <th>Early Morning</th>\n",
       "      <td>0.035222</td>\n",
       "    </tr>\n",
       "    <tr>\n",
       "      <th>Office Hours</th>\n",
       "      <th>Office Hours</th>\n",
       "      <td>0.302593</td>\n",
       "    </tr>\n",
       "    <tr>\n",
       "      <th>Noon Hours</th>\n",
       "      <th>Noon Hours</th>\n",
       "      <td>0.347685</td>\n",
       "    </tr>\n",
       "    <tr>\n",
       "      <th>Evening</th>\n",
       "      <th>Evening</th>\n",
       "      <td>0.059389</td>\n",
       "    </tr>\n",
       "    <tr>\n",
       "      <th>Night</th>\n",
       "      <th>Night</th>\n",
       "      <td>0.028722</td>\n",
       "    </tr>\n",
       "    <tr>\n",
       "      <th>...</th>\n",
       "      <th>...</th>\n",
       "      <th>...</th>\n",
       "      <td>...</td>\n",
       "    </tr>\n",
       "    <tr>\n",
       "      <th rowspan=\"5\" valign=\"top\">6</th>\n",
       "      <th rowspan=\"3\" valign=\"top\">Evening</th>\n",
       "      <th>Noon Hours</th>\n",
       "      <td>23.433426</td>\n",
       "    </tr>\n",
       "    <tr>\n",
       "      <th>Evening</th>\n",
       "      <td>0.289049</td>\n",
       "    </tr>\n",
       "    <tr>\n",
       "      <th>Night</th>\n",
       "      <td>0.304013</td>\n",
       "    </tr>\n",
       "    <tr>\n",
       "      <th rowspan=\"2\" valign=\"top\">Night</th>\n",
       "      <th>Evening</th>\n",
       "      <td>23.385833</td>\n",
       "    </tr>\n",
       "    <tr>\n",
       "      <th>Night</th>\n",
       "      <td>0.263056</td>\n",
       "    </tr>\n",
       "  </tbody>\n",
       "</table>\n",
       "<p>76 rows × 1 columns</p>\n",
       "</div>"
      ],
      "text/plain": [
       "                                                 trip_duration\n",
       "passenger_count Pick_time_frame drop_time_frame               \n",
       "0               Early Morning   Early Morning         0.035222\n",
       "                Office Hours    Office Hours          0.302593\n",
       "                Noon Hours      Noon Hours            0.347685\n",
       "                Evening         Evening               0.059389\n",
       "                Night           Night                 0.028722\n",
       "...                                                        ...\n",
       "6               Evening         Noon Hours           23.433426\n",
       "                                Evening               0.289049\n",
       "                                Night                 0.304013\n",
       "                Night           Evening              23.385833\n",
       "                                Night                 0.263056\n",
       "\n",
       "[76 rows x 1 columns]"
      ]
     },
     "execution_count": 431,
     "metadata": {},
     "output_type": "execute_result"
    }
   ],
   "source": [
    "combo = pd.pivot_table(train, values = 'trip_duration', index = ['passenger_count','Pick_time_frame','drop_time_frame'], aggfunc = np.mean)\n",
    "combo"
   ]
  },
  {
   "cell_type": "markdown",
   "id": "2c0757e8",
   "metadata": {},
   "source": [
    "# 3. Building KNN model\n"
   ]
  },
  {
   "cell_type": "code",
   "execution_count": 432,
   "id": "56287298",
   "metadata": {},
   "outputs": [
    {
     "data": {
      "text/plain": [
       "1    517415\n",
       "2    105097\n",
       "5     38926\n",
       "3     29692\n",
       "6     24107\n",
       "4     14050\n",
       "0        33\n",
       "7         1\n",
       "9         1\n",
       "Name: passenger_count, dtype: int64"
      ]
     },
     "execution_count": 432,
     "metadata": {},
     "output_type": "execute_result"
    }
   ],
   "source": [
    "#removing outliers\n",
    "df['passenger_count'].value_counts()"
   ]
  },
  {
   "cell_type": "code",
   "execution_count": 433,
   "id": "32cdb825",
   "metadata": {},
   "outputs": [],
   "source": [
    "df = df.loc[~(df['passenger_count'] == 0)]\n",
    "df = df.loc[~(df['passenger_count'] == 7)]\n",
    "df = df.loc[~(df['passenger_count'] == 9)]\n"
   ]
  },
  {
   "cell_type": "code",
   "execution_count": 434,
   "id": "23048b42",
   "metadata": {},
   "outputs": [
    {
     "data": {
      "text/plain": [
       "1    517415\n",
       "2    105097\n",
       "5     38926\n",
       "3     29692\n",
       "6     24107\n",
       "4     14050\n",
       "Name: passenger_count, dtype: int64"
      ]
     },
     "execution_count": 434,
     "metadata": {},
     "output_type": "execute_result"
    }
   ],
   "source": [
    "\n",
    "df['passenger_count'].value_counts()"
   ]
  },
  {
   "cell_type": "code",
   "execution_count": 435,
   "id": "169c8205",
   "metadata": {},
   "outputs": [
    {
     "data": {
      "text/plain": [
       "id                            object\n",
       "vendor_id                      int64\n",
       "pickup_datetime       datetime64[ns]\n",
       "dropoff_datetime      datetime64[ns]\n",
       "passenger_count                int64\n",
       "pickup_longitude             float64\n",
       "pickup_latitude              float64\n",
       "dropoff_longitude            float64\n",
       "dropoff_latitude             float64\n",
       "store_and_fwd_flag             int32\n",
       "trip_duration                float64\n",
       "pickup_date                   object\n",
       "dropoff_date                  object\n",
       "Pick_time_frame             category\n",
       "drop_time_frame             category\n",
       "dtype: object"
      ]
     },
     "execution_count": 435,
     "metadata": {},
     "output_type": "execute_result"
    }
   ],
   "source": [
    "df.dtypes"
   ]
  },
  {
   "cell_type": "code",
   "execution_count": 436,
   "id": "33b88147",
   "metadata": {},
   "outputs": [],
   "source": [
    "sample = df.sample(100000)"
   ]
  },
  {
   "cell_type": "code",
   "execution_count": 437,
   "id": "01909924",
   "metadata": {},
   "outputs": [],
   "source": [
    "#seperate features and target\n",
    "features =pd.DataFrame(sample,columns=['pickup_longitude','pickup_latitude','dropoff_longitude','dropoff_latitude','passenger_count'])\n",
    "target = sample[\"trip_duration\"]"
   ]
  },
  {
   "cell_type": "code",
   "execution_count": 438,
   "id": "7a56b11d",
   "metadata": {},
   "outputs": [],
   "source": [
    "features = pd.concat([features, pd.get_dummies(features[['passenger_count']].astype('str'))], axis=1)\n",
    "features.drop(columns=['passenger_count'],inplace=True)\n",
    "\n"
   ]
  },
  {
   "cell_type": "code",
   "execution_count": 439,
   "id": "93fc6e5e",
   "metadata": {},
   "outputs": [
    {
     "data": {
      "text/html": [
       "<div>\n",
       "<style scoped>\n",
       "    .dataframe tbody tr th:only-of-type {\n",
       "        vertical-align: middle;\n",
       "    }\n",
       "\n",
       "    .dataframe tbody tr th {\n",
       "        vertical-align: top;\n",
       "    }\n",
       "\n",
       "    .dataframe thead th {\n",
       "        text-align: right;\n",
       "    }\n",
       "</style>\n",
       "<table border=\"1\" class=\"dataframe\">\n",
       "  <thead>\n",
       "    <tr style=\"text-align: right;\">\n",
       "      <th></th>\n",
       "      <th>pickup_longitude</th>\n",
       "      <th>pickup_latitude</th>\n",
       "      <th>dropoff_longitude</th>\n",
       "      <th>dropoff_latitude</th>\n",
       "      <th>passenger_count_1</th>\n",
       "      <th>passenger_count_2</th>\n",
       "      <th>passenger_count_3</th>\n",
       "      <th>passenger_count_4</th>\n",
       "      <th>passenger_count_5</th>\n",
       "      <th>passenger_count_6</th>\n",
       "    </tr>\n",
       "  </thead>\n",
       "  <tbody>\n",
       "    <tr>\n",
       "      <th>174745</th>\n",
       "      <td>-73.979309</td>\n",
       "      <td>40.757771</td>\n",
       "      <td>-73.979698</td>\n",
       "      <td>40.733383</td>\n",
       "      <td>0</td>\n",
       "      <td>0</td>\n",
       "      <td>0</td>\n",
       "      <td>1</td>\n",
       "      <td>0</td>\n",
       "      <td>0</td>\n",
       "    </tr>\n",
       "    <tr>\n",
       "      <th>622168</th>\n",
       "      <td>-73.952690</td>\n",
       "      <td>40.776630</td>\n",
       "      <td>-73.964828</td>\n",
       "      <td>40.759830</td>\n",
       "      <td>1</td>\n",
       "      <td>0</td>\n",
       "      <td>0</td>\n",
       "      <td>0</td>\n",
       "      <td>0</td>\n",
       "      <td>0</td>\n",
       "    </tr>\n",
       "    <tr>\n",
       "      <th>525313</th>\n",
       "      <td>-73.983871</td>\n",
       "      <td>40.769657</td>\n",
       "      <td>-73.865913</td>\n",
       "      <td>40.770924</td>\n",
       "      <td>0</td>\n",
       "      <td>0</td>\n",
       "      <td>0</td>\n",
       "      <td>0</td>\n",
       "      <td>0</td>\n",
       "      <td>1</td>\n",
       "    </tr>\n",
       "    <tr>\n",
       "      <th>578762</th>\n",
       "      <td>-73.982025</td>\n",
       "      <td>40.778214</td>\n",
       "      <td>-73.988869</td>\n",
       "      <td>40.774834</td>\n",
       "      <td>1</td>\n",
       "      <td>0</td>\n",
       "      <td>0</td>\n",
       "      <td>0</td>\n",
       "      <td>0</td>\n",
       "      <td>0</td>\n",
       "    </tr>\n",
       "    <tr>\n",
       "      <th>175403</th>\n",
       "      <td>-73.984718</td>\n",
       "      <td>40.766033</td>\n",
       "      <td>-73.993706</td>\n",
       "      <td>40.767593</td>\n",
       "      <td>0</td>\n",
       "      <td>1</td>\n",
       "      <td>0</td>\n",
       "      <td>0</td>\n",
       "      <td>0</td>\n",
       "      <td>0</td>\n",
       "    </tr>\n",
       "  </tbody>\n",
       "</table>\n",
       "</div>"
      ],
      "text/plain": [
       "        pickup_longitude  pickup_latitude  dropoff_longitude  \\\n",
       "174745        -73.979309        40.757771         -73.979698   \n",
       "622168        -73.952690        40.776630         -73.964828   \n",
       "525313        -73.983871        40.769657         -73.865913   \n",
       "578762        -73.982025        40.778214         -73.988869   \n",
       "175403        -73.984718        40.766033         -73.993706   \n",
       "\n",
       "        dropoff_latitude  passenger_count_1  passenger_count_2  \\\n",
       "174745         40.733383                  0                  0   \n",
       "622168         40.759830                  1                  0   \n",
       "525313         40.770924                  0                  0   \n",
       "578762         40.774834                  1                  0   \n",
       "175403         40.767593                  0                  1   \n",
       "\n",
       "        passenger_count_3  passenger_count_4  passenger_count_5  \\\n",
       "174745                  0                  1                  0   \n",
       "622168                  0                  0                  0   \n",
       "525313                  0                  0                  0   \n",
       "578762                  0                  0                  0   \n",
       "175403                  0                  0                  0   \n",
       "\n",
       "        passenger_count_6  \n",
       "174745                  0  \n",
       "622168                  0  \n",
       "525313                  1  \n",
       "578762                  0  \n",
       "175403                  0  "
      ]
     },
     "execution_count": 439,
     "metadata": {},
     "output_type": "execute_result"
    }
   ],
   "source": [
    "features.head()"
   ]
  },
  {
   "cell_type": "code",
   "execution_count": 440,
   "id": "de9de78a",
   "metadata": {},
   "outputs": [
    {
     "data": {
      "text/plain": [
       "174745    0.252222\n",
       "622168    0.166667\n",
       "525313    0.521944\n",
       "578762    0.052778\n",
       "175403    0.077222\n",
       "Name: trip_duration, dtype: float64"
      ]
     },
     "execution_count": 440,
     "metadata": {},
     "output_type": "execute_result"
    }
   ],
   "source": [
    "target.head()"
   ]
  },
  {
   "cell_type": "code",
   "execution_count": 441,
   "id": "3064d76a",
   "metadata": {},
   "outputs": [
    {
     "data": {
      "text/plain": [
       "((100000, 10), (100000,))"
      ]
     },
     "execution_count": 441,
     "metadata": {},
     "output_type": "execute_result"
    }
   ],
   "source": [
    "features.shape,target.shape"
   ]
  },
  {
   "cell_type": "code",
   "execution_count": 442,
   "id": "ced4c1f7",
   "metadata": {},
   "outputs": [],
   "source": [
    "## Importing the MinMax Scaler\n",
    "from sklearn.preprocessing import MinMaxScaler\n",
    "scaler = MinMaxScaler()\n",
    "x_scaled = scaler.fit_transform(features)"
   ]
  },
  {
   "cell_type": "code",
   "execution_count": 443,
   "id": "0527a156",
   "metadata": {},
   "outputs": [],
   "source": [
    "features = pd.DataFrame(x_scaled, columns = features.columns)"
   ]
  },
  {
   "cell_type": "code",
   "execution_count": 444,
   "id": "207be91d",
   "metadata": {},
   "outputs": [],
   "source": [
    "# Importing the train test split function\n",
    "from sklearn.model_selection import train_test_split\n",
    "train_x,test_x,train_y,test_y = train_test_split(features,target, random_state = 56)"
   ]
  },
  {
   "cell_type": "code",
   "execution_count": 445,
   "id": "85528b31",
   "metadata": {},
   "outputs": [],
   "source": [
    "#importing KNN classifier and metric F1score and mse\n",
    "from sklearn.neighbors import KNeighborsRegressor as KNN\n",
    "from sklearn.metrics import f1_score\n",
    "# from sklearn.metrics import mean_squared_error as mse\n",
    "# from math import sqrt"
   ]
  },
  {
   "cell_type": "code",
   "execution_count": 446,
   "id": "801aa781",
   "metadata": {},
   "outputs": [
    {
     "name": "stdout",
     "output_type": "stream",
     "text": [
      "test rmse  0.8835505485160743\n"
     ]
    }
   ],
   "source": [
    "#creating instance of KNN\n",
    "reg = KNN(n_neighbors = 10)\n",
    "#fitting the model\n",
    "reg.fit(train_x,train_y)\n",
    "#predicting over the train set and calculating F1\n",
    "test_predict = reg.predict(test_x)\n",
    "k= sqrt(mse(test_predict,test_y))\n",
    "print(\"test rmse \", k)"
   ]
  },
  {
   "cell_type": "markdown",
   "id": "0f438882",
   "metadata": {},
   "source": [
    "# Finding k value"
   ]
  },
  {
   "cell_type": "code",
   "execution_count": 447,
   "id": "a416ac38",
   "metadata": {},
   "outputs": [],
   "source": [
    "def Elbow(K):\n",
    "  #initiating empty list\n",
    "    test_mse = []\n",
    "  \n",
    "  #training model for evey value of K\n",
    "    for i in K:\n",
    "        #Instance of KNN\n",
    "        reg = KNN(n_neighbors = i)\n",
    "        reg.fit(train_x, train_y)\n",
    "        #Appending mse value to empty list claculated using the predictions\n",
    "        tmp = reg.predict(test_x)\n",
    "        tmp = mse(tmp,test_y)\n",
    "        test_mse.append(tmp)\n",
    "    \n",
    "    return test_mse"
   ]
  },
  {
   "cell_type": "code",
   "execution_count": 144,
   "id": "70eb7957",
   "metadata": {},
   "outputs": [],
   "source": [
    "#Defining K range\n",
    "k = range(1,60)"
   ]
  },
  {
   "cell_type": "code",
   "execution_count": 145,
   "id": "1dfe5c7f",
   "metadata": {},
   "outputs": [],
   "source": [
    "# calling above defined function\n",
    "test = Elbow(k)"
   ]
  },
  {
   "cell_type": "code",
   "execution_count": 146,
   "id": "8a54ad5f",
   "metadata": {},
   "outputs": [
    {
     "data": {
      "image/png": "[encoded data removed]",
      "text/plain": [
       "<Figure size 640x480 with 1 Axes>"
      ]
     },
     "metadata": {},
     "output_type": "display_data"
    }
   ],
   "source": [
    "plt.plot(k,test)\n",
    "plt.xlabel(\"k neighbors\")\n",
    "plt.ylabel(\"test mean squared error\")\n",
    "plt.title(\"elbow curve for test\")\n",
    "plt.show()"
   ]
  },
  {
   "cell_type": "code",
   "execution_count": 147,
   "id": "fe3e4604",
   "metadata": {},
   "outputs": [
    {
     "name": "stdout",
     "output_type": "stream",
     "text": [
      "test rmse  0.9584984313281791\n"
     ]
    }
   ],
   "source": [
    "#creating instance of KNN\n",
    "reg = KNN(n_neighbors = 10)\n",
    "#fitting the model\n",
    "reg.fit(train_x,train_y)\n",
    "#predicting over the train set and calculating F1\n",
    "test_predict = reg.predict(test_x)\n",
    "k= sqrt(mse(test_predict,test_y))\n",
    "print(\"test rmse \", k)"
   ]
  },
  {
   "cell_type": "markdown",
   "id": "f4ca291c",
   "metadata": {},
   "source": [
    "# Best value of k would be 10"
   ]
  },
  {
   "cell_type": "code",
   "execution_count": 148,
   "id": "b957f9d6",
   "metadata": {},
   "outputs": [
    {
     "data": {
      "text/plain": [
       "13.454259196897201"
      ]
     },
     "execution_count": 148,
     "metadata": {},
     "output_type": "execute_result"
    }
   ],
   "source": [
    "knn_train_score = reg.score(train_x,train_y)\n",
    "knn_train_score*100"
   ]
  },
  {
   "cell_type": "code",
   "execution_count": 149,
   "id": "053cfc1e",
   "metadata": {},
   "outputs": [
    {
     "data": {
      "text/plain": [
       "-4.777545042276254"
      ]
     },
     "execution_count": 149,
     "metadata": {},
     "output_type": "execute_result"
    }
   ],
   "source": [
    "knn_test_score = reg.score(test_x,test_y)\n",
    "knn_test_score*100"
   ]
  },
  {
   "cell_type": "markdown",
   "id": "4f3abcbb",
   "metadata": {},
   "source": [
    "# 4. Building Linear Regression Model\n"
   ]
  },
  {
   "cell_type": "code",
   "execution_count": 448,
   "id": "2a3169b5",
   "metadata": {},
   "outputs": [],
   "source": [
    "sample = df.sample(100000)"
   ]
  },
  {
   "cell_type": "code",
   "execution_count": 449,
   "id": "ee80dc9a",
   "metadata": {},
   "outputs": [],
   "source": [
    "#seperate features and target\n",
    "features =pd.DataFrame(sample,columns=['pickup_longitude','pickup_latitude','dropoff_longitude','dropoff_latitude','passenger_count'])\n",
    "target = sample[\"trip_duration\"]\n"
   ]
  },
  {
   "cell_type": "code",
   "execution_count": 450,
   "id": "a4f3b8b4",
   "metadata": {},
   "outputs": [],
   "source": [
    "features = pd.concat([features, pd.get_dummies(features[['passenger_count']].astype('str'))], axis=1)\n",
    "features.drop(columns=['passenger_count'],inplace=True)\n",
    "\n"
   ]
  },
  {
   "cell_type": "code",
   "execution_count": 451,
   "id": "98e13a70",
   "metadata": {},
   "outputs": [],
   "source": [
    "from sklearn.linear_model import LinearRegression as LR\n",
    "from sklearn.metrics import mean_squared_error as mse\n",
    "from sklearn.model_selection import train_test_split\n",
    "train_x,test_x,train_y,test_y = train_test_split(features,target,random_state=56)"
   ]
  },
  {
   "cell_type": "code",
   "execution_count": 452,
   "id": "7d76363f",
   "metadata": {},
   "outputs": [
    {
     "data": {
      "text/plain": [
       "LinearRegression()"
      ]
     },
     "execution_count": 452,
     "metadata": {},
     "output_type": "execute_result"
    }
   ],
   "source": [
    "#creating an instance of LR\n",
    "lr = LR()\n",
    "#fitting the model\n",
    "lr.fit(train_x,train_y)"
   ]
  },
  {
   "cell_type": "code",
   "execution_count": 453,
   "id": "5338ce01",
   "metadata": {},
   "outputs": [
    {
     "name": "stdout",
     "output_type": "stream",
     "text": [
      "training rmse  0.8263701484651282\n"
     ]
    }
   ],
   "source": [
    "#predicting the train values and finding the RMSE\n",
    "train_predict = lr.predict(train_x)\n",
    "k = sqrt(mse(train_predict,train_y))\n",
    "print(\"training rmse \",k)"
   ]
  },
  {
   "cell_type": "code",
   "execution_count": 454,
   "id": "68a8e07d",
   "metadata": {},
   "outputs": [
    {
     "name": "stdout",
     "output_type": "stream",
     "text": [
      "testing rmse  0.8639715079190173\n"
     ]
    }
   ],
   "source": [
    "#predicting the test values and finding the RMSE\n",
    "test_predict = lr.predict(test_x)\n",
    "k = sqrt(mse(test_predict,test_y))\n",
    "print(\"testing rmse \",k)"
   ]
  },
  {
   "cell_type": "code",
   "execution_count": 455,
   "id": "49c9a32b",
   "metadata": {},
   "outputs": [
    {
     "data": {
      "text/plain": [
       "array([ 1.13018028, -0.51893093,  0.67624903, -0.44731112, -0.03933796,\n",
       "       -0.01000372, -0.0065335 , -0.00962059,  0.02180473,  0.04369105])"
      ]
     },
     "execution_count": 455,
     "metadata": {},
     "output_type": "execute_result"
    }
   ],
   "source": [
    "#coefficients of linear regression model\n",
    "lr.coef_"
   ]
  },
  {
   "cell_type": "code",
   "execution_count": 456,
   "id": "3dedd782",
   "metadata": {},
   "outputs": [
    {
     "data": {
      "text/plain": [
       "Text(0.5, 1.0, 'Coefficient plot')"
      ]
     },
     "execution_count": 456,
     "metadata": {},
     "output_type": "execute_result"
    },
    {
     "data": {
      "image/png": "[encoded data removed]",
      "text/plain": [
       "<Figure size 960x720 with 1 Axes>"
      ]
     },
     "metadata": {},
     "output_type": "display_data"
    }
   ],
   "source": [
    "plt.figure(figsize=(8, 6), dpi=120, facecolor='w', edgecolor='b')\n",
    "x = range(len(train_x.columns))\n",
    "y = lr.coef_\n",
    "plt.bar( x, y )\n",
    "plt.xlabel( \"Variables\")\n",
    "plt.ylabel('Coefficients')\n",
    "plt.title('Coefficient plot')"
   ]
  },
  {
   "cell_type": "code",
   "execution_count": 457,
   "id": "53f74a6a",
   "metadata": {},
   "outputs": [
    {
     "data": {
      "text/html": [
       "<div>\n",
       "<style scoped>\n",
       "    .dataframe tbody tr th:only-of-type {\n",
       "        vertical-align: middle;\n",
       "    }\n",
       "\n",
       "    .dataframe tbody tr th {\n",
       "        vertical-align: top;\n",
       "    }\n",
       "\n",
       "    .dataframe thead th {\n",
       "        text-align: right;\n",
       "    }\n",
       "</style>\n",
       "<table border=\"1\" class=\"dataframe\">\n",
       "  <thead>\n",
       "    <tr style=\"text-align: right;\">\n",
       "      <th></th>\n",
       "      <th>fitted values</th>\n",
       "      <th>predicted values</th>\n",
       "      <th>residuals</th>\n",
       "    </tr>\n",
       "  </thead>\n",
       "  <tbody>\n",
       "    <tr>\n",
       "      <th>230338</th>\n",
       "      <td>0.162778</td>\n",
       "      <td>0.248485</td>\n",
       "      <td>-0.085707</td>\n",
       "    </tr>\n",
       "    <tr>\n",
       "      <th>632637</th>\n",
       "      <td>0.034722</td>\n",
       "      <td>0.254715</td>\n",
       "      <td>-0.219993</td>\n",
       "    </tr>\n",
       "    <tr>\n",
       "      <th>305514</th>\n",
       "      <td>0.460278</td>\n",
       "      <td>0.255425</td>\n",
       "      <td>0.204853</td>\n",
       "    </tr>\n",
       "    <tr>\n",
       "      <th>437533</th>\n",
       "      <td>0.168889</td>\n",
       "      <td>0.247308</td>\n",
       "      <td>-0.078419</td>\n",
       "    </tr>\n",
       "    <tr>\n",
       "      <th>185163</th>\n",
       "      <td>0.601111</td>\n",
       "      <td>0.231020</td>\n",
       "      <td>0.370091</td>\n",
       "    </tr>\n",
       "  </tbody>\n",
       "</table>\n",
       "</div>"
      ],
      "text/plain": [
       "        fitted values  predicted values  residuals\n",
       "230338       0.162778          0.248485  -0.085707\n",
       "632637       0.034722          0.254715  -0.219993\n",
       "305514       0.460278          0.255425   0.204853\n",
       "437533       0.168889          0.247308  -0.078419\n",
       "185163       0.601111          0.231020   0.370091"
      ]
     },
     "execution_count": 457,
     "metadata": {},
     "output_type": "execute_result"
    }
   ],
   "source": [
    "# Arranging and calculating the Residuals\n",
    "residuals = pd.DataFrame({\n",
    "    'fitted values' : test_y,\n",
    "    'predicted values' : test_predict,\n",
    "})\n",
    "\n",
    "residuals['residuals'] = residuals['fitted values'] - residuals['predicted values']\n",
    "residuals.head()"
   ]
  },
  {
   "cell_type": "code",
   "execution_count": 458,
   "id": "011e75f7",
   "metadata": {},
   "outputs": [
    {
     "data": {
      "image/png": "[encoded data removed]",
      "text/plain": [
       "<Figure size 1200x720 with 1 Axes>"
      ]
     },
     "metadata": {},
     "output_type": "display_data"
    }
   ],
   "source": [
    "# Histogram for distribution\n",
    "plt.figure(figsize=(10, 6), dpi=120, facecolor='w', edgecolor='b')\n",
    "plt.hist(residuals.residuals, bins = 150)\n",
    "plt.xlabel('Error')\n",
    "plt.ylabel('Frequency')\n",
    "plt.title('Distribution of Error Terms')\n",
    "plt.show()"
   ]
  },
  {
   "cell_type": "code",
   "execution_count": 459,
   "id": "b0039a7b",
   "metadata": {
    "scrolled": true
   },
   "outputs": [
    {
     "data": {
      "image/png": "[encoded data removed]",
      "text/plain": [
       "<Figure size 600x600 with 1 Axes>"
      ]
     },
     "metadata": {},
     "output_type": "display_data"
    }
   ],
   "source": [
    "# importing the QQ-plot from the from the statsmodels\n",
    "from statsmodels.graphics.gofplots import qqplot\n",
    "\n",
    "## Plotting the QQ plot\n",
    "fig, ax = plt.subplots(figsize=(5,5) , dpi = 120)\n",
    "\n",
    "qqplot(residuals.residuals, line = 's',ax=ax )\n",
    "plt.ylabel('Residual Quantiles')\n",
    "plt.xlabel('Ideal Scaled Quantiles')\n",
    "plt.title('Checking distribution of Residual Errors')\n",
    "plt.show()"
   ]
  },
  {
   "cell_type": "markdown",
   "id": "8190647f",
   "metadata": {},
   "source": [
    "# Model Interpretability"
   ]
  },
  {
   "cell_type": "code",
   "execution_count": 460,
   "id": "c29ec606",
   "metadata": {},
   "outputs": [
    {
     "data": {
      "text/plain": [
       "LinearRegression(normalize=True)"
      ]
     },
     "execution_count": 460,
     "metadata": {},
     "output_type": "execute_result"
    }
   ],
   "source": [
    "# Creating instance of Linear Regresssion\n",
    "lr = LR(normalize = True)\n",
    "\n",
    "# Fitting the model\n",
    "lr.fit(train_x, train_y)"
   ]
  },
  {
   "cell_type": "code",
   "execution_count": 461,
   "id": "bbb22f5d",
   "metadata": {},
   "outputs": [
    {
     "name": "stdout",
     "output_type": "stream",
     "text": [
      "training rmse  0.8263718525727447\n"
     ]
    }
   ],
   "source": [
    "#predicting the train values and finding the RMSE\n",
    "train_predict = lr.predict(train_x)\n",
    "k = sqrt(mse(train_predict,train_y))\n",
    "print(\"training rmse \",k)\n"
   ]
  },
  {
   "cell_type": "code",
   "execution_count": 462,
   "id": "49bb8bfe",
   "metadata": {},
   "outputs": [
    {
     "name": "stdout",
     "output_type": "stream",
     "text": [
      "testing rmse  0.8639754403530445\n"
     ]
    }
   ],
   "source": [
    "#predicting the test values and finding the RMSE\n",
    "test_predict = lr.predict(test_x)\n",
    "k = sqrt(mse(test_predict,test_y))\n",
    "print(\"testing rmse \",k)"
   ]
  },
  {
   "cell_type": "code",
   "execution_count": 463,
   "id": "53bda805",
   "metadata": {},
   "outputs": [
    {
     "data": {
      "text/html": [
       "<div>\n",
       "<style scoped>\n",
       "    .dataframe tbody tr th:only-of-type {\n",
       "        vertical-align: middle;\n",
       "    }\n",
       "\n",
       "    .dataframe tbody tr th {\n",
       "        vertical-align: top;\n",
       "    }\n",
       "\n",
       "    .dataframe thead th {\n",
       "        text-align: right;\n",
       "    }\n",
       "</style>\n",
       "<table border=\"1\" class=\"dataframe\">\n",
       "  <thead>\n",
       "    <tr style=\"text-align: right;\">\n",
       "      <th></th>\n",
       "      <th>Variable</th>\n",
       "      <th>coefficient</th>\n",
       "    </tr>\n",
       "  </thead>\n",
       "  <tbody>\n",
       "    <tr>\n",
       "      <th>0</th>\n",
       "      <td>pickup_longitude</td>\n",
       "      <td>1.129588e+00</td>\n",
       "    </tr>\n",
       "    <tr>\n",
       "      <th>1</th>\n",
       "      <td>pickup_latitude</td>\n",
       "      <td>-5.244715e-01</td>\n",
       "    </tr>\n",
       "    <tr>\n",
       "      <th>2</th>\n",
       "      <td>dropoff_longitude</td>\n",
       "      <td>6.764546e-01</td>\n",
       "    </tr>\n",
       "    <tr>\n",
       "      <th>3</th>\n",
       "      <td>dropoff_latitude</td>\n",
       "      <td>-4.461121e-01</td>\n",
       "    </tr>\n",
       "    <tr>\n",
       "      <th>4</th>\n",
       "      <td>passenger_count_1</td>\n",
       "      <td>-4.101085e+12</td>\n",
       "    </tr>\n",
       "  </tbody>\n",
       "</table>\n",
       "</div>"
      ],
      "text/plain": [
       "            Variable   coefficient\n",
       "0   pickup_longitude  1.129588e+00\n",
       "1    pickup_latitude -5.244715e-01\n",
       "2  dropoff_longitude  6.764546e-01\n",
       "3   dropoff_latitude -4.461121e-01\n",
       "4  passenger_count_1 -4.101085e+12"
      ]
     },
     "execution_count": 463,
     "metadata": {},
     "output_type": "execute_result"
    }
   ],
   "source": [
    "# Arranging and calculating the Residuals\n",
    "coef = pd.DataFrame({\n",
    "     'Variable'    : features.columns,\n",
    "     'coefficient' : lr.coef_\n",
    "})\n",
    "\n",
    "coef.head()"
   ]
  },
  {
   "cell_type": "code",
   "execution_count": 464,
   "id": "291d6b24",
   "metadata": {},
   "outputs": [
    {
     "data": {
      "text/plain": [
       "Text(0.5, 1.0, 'Normalized Coefficient plot')"
      ]
     },
     "execution_count": 464,
     "metadata": {},
     "output_type": "execute_result"
    },
    {
     "data": {
      "image/png": "[encoded data removed]",
      "text/plain": [
       "<Figure size 960x720 with 1 Axes>"
      ]
     },
     "metadata": {},
     "output_type": "display_data"
    }
   ],
   "source": [
    "plt.figure(figsize=(8, 6), dpi=120, facecolor='w', edgecolor='b')\n",
    "x = range(len(train_x.columns))\n",
    "y = lr.coef_\n",
    "plt.bar( x, y )\n",
    "plt.xlabel( \"Variables\")\n",
    "plt.ylabel('Coefficients')\n",
    "plt.title('Normalized Coefficient plot')"
   ]
  },
  {
   "cell_type": "code",
   "execution_count": 465,
   "id": "1d564558",
   "metadata": {},
   "outputs": [
    {
     "data": {
      "text/plain": [
       "0.7793298481161504"
      ]
     },
     "execution_count": 465,
     "metadata": {},
     "output_type": "execute_result"
    }
   ],
   "source": [
    "linear_train_score = lr.score(train_x,train_y)\n",
    "linear_train_score*100"
   ]
  },
  {
   "cell_type": "code",
   "execution_count": 466,
   "id": "569b4b1b",
   "metadata": {},
   "outputs": [
    {
     "data": {
      "text/plain": [
       "0.85016828525597"
      ]
     },
     "execution_count": 466,
     "metadata": {},
     "output_type": "execute_result"
    }
   ],
   "source": [
    "linear_test_score = lr.score(test_x,test_y)\n",
    "linear_test_score*100"
   ]
  },
  {
   "cell_type": "markdown",
   "id": "689c8851",
   "metadata": {},
   "source": [
    "# CONCLUSION \n",
    "# 1. The training and test RMSE has a huge difference\n",
    "# 2. On computing the coefficients we see there are some negative values as well\n",
    "# 3. On plotting the qqplot we see that the residual quantile line doesn't fit over all ideal scaled quantiles"
   ]
  },
  {
   "cell_type": "markdown",
   "id": "805d3d2e",
   "metadata": {},
   "source": [
    "# 5. Building Decision Tree Model"
   ]
  },
  {
   "cell_type": "code",
   "execution_count": 467,
   "id": "bdbd9324",
   "metadata": {},
   "outputs": [],
   "source": [
    "features =pd.DataFrame(sample,columns=['pickup_longitude','pickup_latitude','dropoff_longitude','dropoff_latitude','passenger_count'])\n",
    "target= sample[\"trip_duration\"]"
   ]
  },
  {
   "cell_type": "code",
   "execution_count": 468,
   "id": "d10ee895",
   "metadata": {},
   "outputs": [],
   "source": [
    "features = pd.concat([features, pd.get_dummies(features[['passenger_count']].astype('str'))], axis=1)\n",
    "features.drop(columns=['passenger_count'],inplace=True)\n",
    "\n",
    "\n"
   ]
  },
  {
   "cell_type": "code",
   "execution_count": 469,
   "id": "cd67b8d3",
   "metadata": {},
   "outputs": [
    {
     "data": {
      "text/plain": [
       "(100000, 10)"
      ]
     },
     "execution_count": 469,
     "metadata": {},
     "output_type": "execute_result"
    }
   ],
   "source": [
    "features.shape"
   ]
  },
  {
   "cell_type": "code",
   "execution_count": 470,
   "id": "f96a2014",
   "metadata": {},
   "outputs": [],
   "source": [
    "train_x,test_x,train_y,test_y = train_test_split(features,target,random_state=55)"
   ]
  },
  {
   "cell_type": "code",
   "execution_count": 471,
   "id": "8b91cb30",
   "metadata": {},
   "outputs": [
    {
     "data": {
      "text/plain": [
       "DecisionTreeRegressor()"
      ]
     },
     "execution_count": 471,
     "metadata": {},
     "output_type": "execute_result"
    }
   ],
   "source": [
    "from sklearn.tree import DecisionTreeRegressor as DecisionTreeRegressor\n",
    "from sklearn.metrics import mean_squared_error as mse\n",
    "regressor = DecisionTreeRegressor()\n",
    "regressor.fit(features, target)"
   ]
  },
  {
   "cell_type": "code",
   "execution_count": 472,
   "id": "e3b0d973",
   "metadata": {},
   "outputs": [
    {
     "name": "stdout",
     "output_type": "stream",
     "text": [
      "training rmse  9.682458365518544e-05\n"
     ]
    }
   ],
   "source": [
    "from math import sqrt\n",
    "train_predict = regressor.predict(train_x)\n",
    "k = sqrt(mse(train_predict,train_y))\n",
    "print(\"training rmse \",k)"
   ]
  },
  {
   "cell_type": "code",
   "execution_count": 473,
   "id": "549d8390",
   "metadata": {},
   "outputs": [
    {
     "name": "stdout",
     "output_type": "stream",
     "text": [
      "testing rmse  0.0\n"
     ]
    }
   ],
   "source": [
    "from math import sqrt\n",
    "test_predict = regressor.predict(test_x)\n",
    "k1 = sqrt(mse(test_predict,test_y))\n",
    "print(\"testing rmse \",k1)"
   ]
  },
  {
   "cell_type": "markdown",
   "id": "05b5434d",
   "metadata": {},
   "source": [
    "# Interpret the variable importance."
   ]
  },
  {
   "cell_type": "code",
   "execution_count": 474,
   "id": "2628338f",
   "metadata": {},
   "outputs": [
    {
     "name": "stdout",
     "output_type": "stream",
     "text": [
      "Requirement already satisfied: xgboost in c:\\users\\archi\\anaconda3\\lib\\site-packages (1.7.3)\n",
      "Requirement already satisfied: numpy in c:\\users\\archi\\anaconda3\\lib\\site-packages (from xgboost) (1.21.5)\n",
      "Requirement already satisfied: scipy in c:\\users\\archi\\anaconda3\\lib\\site-packages (from xgboost) (1.9.1)\n",
      "Note: you may need to restart the kernel to use updated packages.\n"
     ]
    }
   ],
   "source": [
    "pip install xgboost"
   ]
  },
  {
   "cell_type": "code",
   "execution_count": 475,
   "id": "f47625f4",
   "metadata": {},
   "outputs": [
    {
     "data": {
      "image/png": "[encoded data removed]",
      "text/plain": [
       "<Figure size 640x480 with 1 Axes>"
      ]
     },
     "metadata": {},
     "output_type": "display_data"
    }
   ],
   "source": [
    "#Using XGBoost in order to interpret the variable importance\n",
    "from xgboost import XGBRegressor\n",
    "from xgboost import plot_importance\n",
    "import matplotlib.pyplot as plt\n",
    "model = XGBRegressor()\n",
    "model.fit(X,Y)\n",
    "plot_importance(model._Booster)\n",
    "\n",
    "plt.show()"
   ]
  },
  {
   "cell_type": "code",
   "execution_count": 476,
   "id": "73926b33",
   "metadata": {},
   "outputs": [
    {
     "data": {
      "text/plain": [
       "99.99999871216221"
      ]
     },
     "execution_count": 476,
     "metadata": {},
     "output_type": "execute_result"
    }
   ],
   "source": [
    "#calculating the train score of decision tree model\n",
    "decision_train_score = regressor.score(train_x,train_y)\n",
    "decision_train_score*100"
   ]
  },
  {
   "cell_type": "code",
   "execution_count": 477,
   "id": "7e4163ba",
   "metadata": {},
   "outputs": [
    {
     "data": {
      "text/plain": [
       "100.0"
      ]
     },
     "execution_count": 477,
     "metadata": {},
     "output_type": "execute_result"
    }
   ],
   "source": [
    "#calculating the test score of decision tree model\n",
    "decision_test_score = regressor.score(test_x,test_y)\n",
    "decision_test_score*100"
   ]
  },
  {
   "cell_type": "markdown",
   "id": "da8df0b8",
   "metadata": {},
   "source": [
    "# CONCLUSION\n",
    "# 1. The training RMSE of decision model is almost equal to testing RMSE so its the best fit\n",
    "# 2. The train score and test score is 99.99 so we can say that decision tree is the best model for predicting the trip duration variable.\n"
   ]
  },
  {
   "cell_type": "markdown",
   "id": "5a0795ac",
   "metadata": {},
   "source": [
    "# 6. Building Bar Plot"
   ]
  },
  {
   "cell_type": "code",
   "execution_count": 478,
   "id": "0d362ef6",
   "metadata": {},
   "outputs": [],
   "source": [
    "#assining the train score values in x,y\n",
    "x=[\"decision_train_score\",\"linear_train_score\",\"knn_train_score\"]\n",
    "y=[decision_test_score,linear_train_score, knn_train_score]"
   ]
  },
  {
   "cell_type": "code",
   "execution_count": 479,
   "id": "2218a65c",
   "metadata": {},
   "outputs": [
    {
     "data": {
      "image/png": "[encoded data removed]",
      "text/plain": [
       "<Figure size 640x480 with 1 Axes>"
      ]
     },
     "metadata": {},
     "output_type": "display_data"
    }
   ],
   "source": [
    "plt.figure(dpi=100)\n",
    "plt.bar(x,y)\n",
    "plt.xlabel(\"models\")\n",
    "plt.ylabel(\"train scores\")\n",
    "plt.show()"
   ]
  },
  {
   "cell_type": "code",
   "execution_count": 480,
   "id": "781addf8",
   "metadata": {},
   "outputs": [],
   "source": [
    "#assining the test score value in x1,y1\n",
    "x1=[\"decision_test_score\",\"linear_test_score\",\"knn_test_score\"]\n",
    "y1=[decision_test_score,linear_test_score,knn_test_score]"
   ]
  },
  {
   "cell_type": "code",
   "execution_count": 481,
   "id": "24b58b0c",
   "metadata": {},
   "outputs": [
    {
     "data": {
      "image/png": "[encoded data removed]",
      "text/plain": [
       "<Figure size 640x480 with 1 Axes>"
      ]
     },
     "metadata": {},
     "output_type": "display_data"
    }
   ],
   "source": [
    "plt.figure(dpi=100)\n",
    "plt.bar(x1,y1)\n",
    "plt.xlabel(\"models\")\n",
    "plt.ylabel(\"train scores\")\n",
    "plt.show()"
   ]
  },
  {
   "cell_type": "markdown",
   "id": "851374c7",
   "metadata": {},
   "source": [
    "# from graph we can see that the best model among KNN LR and DT(decision tree) the best one is DT in train score"
   ]
  },
  {
   "cell_type": "code",
   "execution_count": null,
   "id": "d2487624",
   "metadata": {},
   "outputs": [],
   "source": []
  },
  {
   "cell_type": "code",
   "execution_count": null,
   "id": "727df32f",
   "metadata": {},
   "outputs": [],
   "source": []
  },
  {
   "cell_type": "code",
   "execution_count": null,
   "id": "e49d3a44",
   "metadata": {},
   "outputs": [],
   "source": []
  }
 ],
 "metadata": {
  "kernelspec": {
   "display_name": "Python 3 (ipykernel)",
   "language": "python",
   "name": "python3"
  },
  "language_info": {
   "codemirror_mode": {
    "name": "ipython",
    "version": 3
   },
   "file_extension": ".py",
   "mimetype": "text/x-python",
   "name": "python",
   "nbconvert_exporter": "python",
   "pygments_lexer": "ipython3",
   "version": "3.9.13"
  }
 },
 "nbformat": 4,
 "nbformat_minor": 5
}
